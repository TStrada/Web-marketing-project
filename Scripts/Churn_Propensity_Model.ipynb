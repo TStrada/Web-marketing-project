{
  "cells": [
    {
      "cell_type": "markdown",
      "metadata": {
        "id": "Fdy7_tWXQkRK"
      },
      "source": [
        "# Importazioni"
      ]
    },
    {
      "cell_type": "code",
      "execution_count": null,
      "metadata": {
        "id": "7_UY0sUGnl2E"
      },
      "outputs": [],
      "source": [
        "#Standard libraries for data analysis:  \n",
        "import numpy as np\n",
        "import matplotlib.pyplot as plt\n",
        "import pandas as pd\n",
        "from scipy.stats import norm, skew\n",
        "from scipy import stats\n",
        "import statsmodels.api as sm\n",
        "\n",
        "# sklearn modules for data preprocessing:\n",
        "from sklearn.impute import SimpleImputer\n",
        "from sklearn.preprocessing import LabelEncoder, OneHotEncoder\n",
        "from sklearn.compose import ColumnTransformer\n",
        "from sklearn.preprocessing import OneHotEncoder\n",
        "from sklearn.model_selection import train_test_split\n",
        "from sklearn.preprocessing import StandardScaler\n",
        "#sklearn modules for Model Selection:\n",
        "from sklearn import svm, tree, linear_model, neighbors\n",
        "from sklearn import naive_bayes, ensemble, discriminant_analysis, gaussian_process\n",
        "from sklearn.neighbors import KNeighborsClassifier\n",
        "from sklearn.discriminant_analysis import LinearDiscriminantAnalysis\n",
        "from xgboost import XGBClassifier\n",
        "from sklearn.linear_model import LogisticRegression\n",
        "from sklearn.svm import SVC\n",
        "from sklearn.neighbors import KNeighborsClassifier\n",
        "from sklearn.naive_bayes import GaussianNB\n",
        "from sklearn.tree import DecisionTreeClassifier\n",
        "from sklearn.ensemble import RandomForestClassifier\n",
        "#sklearn modules for Model Evaluation & Improvement:    \n",
        "from sklearn.metrics import confusion_matrix, accuracy_score \n",
        "from sklearn.metrics import f1_score, precision_score, recall_score, fbeta_score\n",
        "from statsmodels.stats.outliers_influence import variance_inflation_factor\n",
        "from sklearn.model_selection import cross_val_score\n",
        "from sklearn.model_selection import GridSearchCV\n",
        "from sklearn.model_selection import ShuffleSplit\n",
        "from sklearn.model_selection import KFold\n",
        "from sklearn import feature_selection\n",
        "from sklearn import model_selection\n",
        "from sklearn import metrics\n",
        "from sklearn.metrics import classification_report, precision_recall_curve\n",
        "from sklearn.metrics import auc, roc_auc_score, roc_curve\n",
        "from sklearn.metrics import make_scorer, recall_score, log_loss\n",
        "from sklearn.metrics import average_precision_score\n",
        "\n",
        "#Standard libraries for data visualization:\n",
        "import seaborn as sn\n",
        "from matplotlib import pyplot\n",
        "import matplotlib.pyplot as plt\n",
        "import matplotlib.pylab as pylab\n",
        "import matplotlib \n",
        "%matplotlib inline\n",
        "color = sn.color_palette()\n",
        "import matplotlib.ticker as mtick\n",
        "from IPython.display import display\n",
        "pd.options.display.max_columns = None\n",
        "from pandas.plotting import scatter_matrix\n",
        "from sklearn.metrics import roc_curve\n",
        "    \n",
        "import random\n",
        "import os\n",
        "import re\n",
        "import sys\n",
        "import timeit\n",
        "import string\n",
        "import time\n",
        "from datetime import datetime\n",
        "from time import time\n",
        "from dateutil.parser import parse\n",
        "import joblib"
      ]
    },
    {
      "cell_type": "code",
      "execution_count": null,
      "metadata": {
        "colab": {
          "base_uri": "https://localhost:8080/"
        },
        "id": "cY3GWeBV9H9S",
        "outputId": "42ab31a1-ed94-4ff9-b5f1-a0c38b623050"
      },
      "outputs": [
        {
          "output_type": "stream",
          "name": "stdout",
          "text": [
            "Mounted at /content/drive\n"
          ]
        }
      ],
      "source": [
        "from google.colab import drive\n",
        "drive.mount('/content/drive') "
      ]
    },
    {
      "cell_type": "code",
      "execution_count": null,
      "metadata": {
        "id": "o_EY9nLH9Jgy"
      },
      "outputs": [],
      "source": [
        "BASE_PATH = '/content/drive/MyDrive/Progetto_Web/Dataset_Clean/'"
      ]
    },
    {
      "cell_type": "code",
      "execution_count": null,
      "metadata": {
        "id": "0s-W91F89Llq"
      },
      "outputs": [],
      "source": [
        "#Importation of Datasets\n",
        "# df1: contiene informazioni sugli abbonamenti fedeltà di ciascun account cliente\n",
        "df1 = pd.read_csv(BASE_PATH + 'df1.csv', sep = ',', na_values = '', encoding = 'latin-1')\n",
        "# df2: contiene informazioni su ciascun account cliente e descrive le caratteristiche di esse, tra la prima tabella e la seconda ci sono dei duplicati, \n",
        "# per esempio, perché un cliente può avere più tessere fedeltà o la stessa tessera fedeltà può appartenere a più clienti\n",
        "df2 = pd.read_csv(BASE_PATH + 'df2.csv', sep = ',', na_values = '', encoding = 'latin-1')\n",
        "# df3: contiene informazioni sull'indirizzo corrispondente a un account cliente\n",
        "df3 = pd.read_csv(BASE_PATH + 'df3.csv', sep = ',', na_values = '', encoding = 'latin-1')\n",
        "# df4: contiene informazioni sulle politiche sulla privacy accettate da ciascun cliente\n",
        "df4 = pd.read_csv(BASE_PATH + 'df4.csv', sep = ',', na_values = '', encoding = 'latin-1')\n",
        "\n",
        "# df7: contiene le transazioni di acquisto e rimborso di ciascun cliente, è una delle parti più cospicue di questa base di dati\n",
        "# df7 = pd.read_csv(BASE_PATH + 'df7.csv', sep = ',', na_values = '', encoding = 'latin-1')\n",
        "\n",
        "df7_churn_tot = pd.read_csv(BASE_PATH + 'df7_churn.csv', sep = ',', na_values = '', encoding = 'latin-1')\n",
        "df7_churn = df7_churn_tot[['ID_CLI', 'CHURN']]"
      ]
    },
    {
      "cell_type": "markdown",
      "metadata": {
        "id": "CJHzC5Qa5Ftf"
      },
      "source": [
        "# Merge"
      ]
    },
    {
      "cell_type": "code",
      "execution_count": null,
      "metadata": {
        "colab": {
          "base_uri": "https://localhost:8080/"
        },
        "id": "SrIs1_5jnXT4",
        "outputId": "1bb2cd13-0faf-427d-97b8-5002b4aace9f"
      },
      "outputs": [
        {
          "output_type": "execute_result",
          "data": {
            "text/plain": [
              "        ID_CLI  ID_FID LAST_COD_FID  LAST_TYP_CLI_FID  LAST_STATUS_FID  \\\n",
              "0       199060  928121  PREMIUM BIZ                 1                1   \n",
              "1       613049  928118      PREMIUM                 1                1   \n",
              "2       648813  928116     STANDARD                 1                1   \n",
              "3       914880  928115     STANDARD                 1                1   \n",
              "4       342639  928112  PREMIUM BIZ                 1                1   \n",
              "...        ...     ...          ...               ...              ...   \n",
              "369467  105948      10     STANDARD                 1                1   \n",
              "369468  105946       8     STANDARD                 1                1   \n",
              "369469  105944       6     STANDARD                 1                1   \n",
              "369470  105942       4     STANDARD                 1                1   \n",
              "369471  105941       3     STANDARD                 1                1   \n",
              "\n",
              "       LAST_DT_ACTIVE  FIRST_ID_NEG FIRST_DT_ACTIVE  NUM_FIDs EMAIL_PROVIDER  \\\n",
              "0          2019-05-11            19      2018-02-18         2      gmail.com   \n",
              "1          2019-05-11            21      2019-03-30         2       email.it   \n",
              "2          2019-05-10             1      2018-10-27         3      gmail.com   \n",
              "3          2019-05-10            43      2019-04-15         2      gmail.com   \n",
              "4          2019-05-09            26      2018-04-29         2    hotmail.com   \n",
              "...               ...           ...             ...       ...            ...   \n",
              "369467     2018-01-01             3      2018-01-01         1     hotmail.it   \n",
              "369468     2018-01-01            43      2018-01-01         1     hotmail.it   \n",
              "369469     2018-01-01            27      2018-01-01         1      gmail.com   \n",
              "369470     2018-01-01            46      2018-01-01         1     hotmail.it   \n",
              "369471     2018-01-01             9      2018-01-01         1    hotmail.com   \n",
              "\n",
              "        W_PHONE  ID_ADDRESS  TYP_CLI_ACCOUNT    TYP_JOB  FLAG_PRIVACY_1  \\\n",
              "0           1.0      181695                2  (missing)               1   \n",
              "1           1.0      596934                4  (missing)               1   \n",
              "2           1.0      633078                4  (missing)               1   \n",
              "3           1.0      885965                4  (missing)               1   \n",
              "4           1.0      321438                2  (missing)               1   \n",
              "...         ...         ...              ...        ...             ...   \n",
              "369467      1.0       91059                4  (missing)               1   \n",
              "369468      1.0       91057                4  (missing)               1   \n",
              "369469      1.0       91055                4  (missing)               1   \n",
              "369470      1.0       91053                4  (missing)               1   \n",
              "369471      1.0       91052                4  (missing)               0   \n",
              "\n",
              "        FLAG_PRIVACY_2  FLAG_DIRECT_MKT  \n",
              "0                    1                0  \n",
              "1                    0                1  \n",
              "2                    1                1  \n",
              "3                    1                1  \n",
              "4                    1                1  \n",
              "...                ...              ...  \n",
              "369467               1                1  \n",
              "369468               1                1  \n",
              "369469               1                1  \n",
              "369470               1                1  \n",
              "369471               1                0  \n",
              "\n",
              "[369472 rows x 17 columns]"
            ],
            "text/html": [
              "\n",
              "  <div id=\"df-762b1f71-17b9-4c3c-8a40-99e2ad9d9ee6\">\n",
              "    <div class=\"colab-df-container\">\n",
              "      <div>\n",
              "<style scoped>\n",
              "    .dataframe tbody tr th:only-of-type {\n",
              "        vertical-align: middle;\n",
              "    }\n",
              "\n",
              "    .dataframe tbody tr th {\n",
              "        vertical-align: top;\n",
              "    }\n",
              "\n",
              "    .dataframe thead th {\n",
              "        text-align: right;\n",
              "    }\n",
              "</style>\n",
              "<table border=\"1\" class=\"dataframe\">\n",
              "  <thead>\n",
              "    <tr style=\"text-align: right;\">\n",
              "      <th></th>\n",
              "      <th>ID_CLI</th>\n",
              "      <th>ID_FID</th>\n",
              "      <th>LAST_COD_FID</th>\n",
              "      <th>LAST_TYP_CLI_FID</th>\n",
              "      <th>LAST_STATUS_FID</th>\n",
              "      <th>LAST_DT_ACTIVE</th>\n",
              "      <th>FIRST_ID_NEG</th>\n",
              "      <th>FIRST_DT_ACTIVE</th>\n",
              "      <th>NUM_FIDs</th>\n",
              "      <th>EMAIL_PROVIDER</th>\n",
              "      <th>W_PHONE</th>\n",
              "      <th>ID_ADDRESS</th>\n",
              "      <th>TYP_CLI_ACCOUNT</th>\n",
              "      <th>TYP_JOB</th>\n",
              "      <th>FLAG_PRIVACY_1</th>\n",
              "      <th>FLAG_PRIVACY_2</th>\n",
              "      <th>FLAG_DIRECT_MKT</th>\n",
              "    </tr>\n",
              "  </thead>\n",
              "  <tbody>\n",
              "    <tr>\n",
              "      <th>0</th>\n",
              "      <td>199060</td>\n",
              "      <td>928121</td>\n",
              "      <td>PREMIUM BIZ</td>\n",
              "      <td>1</td>\n",
              "      <td>1</td>\n",
              "      <td>2019-05-11</td>\n",
              "      <td>19</td>\n",
              "      <td>2018-02-18</td>\n",
              "      <td>2</td>\n",
              "      <td>gmail.com</td>\n",
              "      <td>1.0</td>\n",
              "      <td>181695</td>\n",
              "      <td>2</td>\n",
              "      <td>(missing)</td>\n",
              "      <td>1</td>\n",
              "      <td>1</td>\n",
              "      <td>0</td>\n",
              "    </tr>\n",
              "    <tr>\n",
              "      <th>1</th>\n",
              "      <td>613049</td>\n",
              "      <td>928118</td>\n",
              "      <td>PREMIUM</td>\n",
              "      <td>1</td>\n",
              "      <td>1</td>\n",
              "      <td>2019-05-11</td>\n",
              "      <td>21</td>\n",
              "      <td>2019-03-30</td>\n",
              "      <td>2</td>\n",
              "      <td>email.it</td>\n",
              "      <td>1.0</td>\n",
              "      <td>596934</td>\n",
              "      <td>4</td>\n",
              "      <td>(missing)</td>\n",
              "      <td>1</td>\n",
              "      <td>0</td>\n",
              "      <td>1</td>\n",
              "    </tr>\n",
              "    <tr>\n",
              "      <th>2</th>\n",
              "      <td>648813</td>\n",
              "      <td>928116</td>\n",
              "      <td>STANDARD</td>\n",
              "      <td>1</td>\n",
              "      <td>1</td>\n",
              "      <td>2019-05-10</td>\n",
              "      <td>1</td>\n",
              "      <td>2018-10-27</td>\n",
              "      <td>3</td>\n",
              "      <td>gmail.com</td>\n",
              "      <td>1.0</td>\n",
              "      <td>633078</td>\n",
              "      <td>4</td>\n",
              "      <td>(missing)</td>\n",
              "      <td>1</td>\n",
              "      <td>1</td>\n",
              "      <td>1</td>\n",
              "    </tr>\n",
              "    <tr>\n",
              "      <th>3</th>\n",
              "      <td>914880</td>\n",
              "      <td>928115</td>\n",
              "      <td>STANDARD</td>\n",
              "      <td>1</td>\n",
              "      <td>1</td>\n",
              "      <td>2019-05-10</td>\n",
              "      <td>43</td>\n",
              "      <td>2019-04-15</td>\n",
              "      <td>2</td>\n",
              "      <td>gmail.com</td>\n",
              "      <td>1.0</td>\n",
              "      <td>885965</td>\n",
              "      <td>4</td>\n",
              "      <td>(missing)</td>\n",
              "      <td>1</td>\n",
              "      <td>1</td>\n",
              "      <td>1</td>\n",
              "    </tr>\n",
              "    <tr>\n",
              "      <th>4</th>\n",
              "      <td>342639</td>\n",
              "      <td>928112</td>\n",
              "      <td>PREMIUM BIZ</td>\n",
              "      <td>1</td>\n",
              "      <td>1</td>\n",
              "      <td>2019-05-09</td>\n",
              "      <td>26</td>\n",
              "      <td>2018-04-29</td>\n",
              "      <td>2</td>\n",
              "      <td>hotmail.com</td>\n",
              "      <td>1.0</td>\n",
              "      <td>321438</td>\n",
              "      <td>2</td>\n",
              "      <td>(missing)</td>\n",
              "      <td>1</td>\n",
              "      <td>1</td>\n",
              "      <td>1</td>\n",
              "    </tr>\n",
              "    <tr>\n",
              "      <th>...</th>\n",
              "      <td>...</td>\n",
              "      <td>...</td>\n",
              "      <td>...</td>\n",
              "      <td>...</td>\n",
              "      <td>...</td>\n",
              "      <td>...</td>\n",
              "      <td>...</td>\n",
              "      <td>...</td>\n",
              "      <td>...</td>\n",
              "      <td>...</td>\n",
              "      <td>...</td>\n",
              "      <td>...</td>\n",
              "      <td>...</td>\n",
              "      <td>...</td>\n",
              "      <td>...</td>\n",
              "      <td>...</td>\n",
              "      <td>...</td>\n",
              "    </tr>\n",
              "    <tr>\n",
              "      <th>369467</th>\n",
              "      <td>105948</td>\n",
              "      <td>10</td>\n",
              "      <td>STANDARD</td>\n",
              "      <td>1</td>\n",
              "      <td>1</td>\n",
              "      <td>2018-01-01</td>\n",
              "      <td>3</td>\n",
              "      <td>2018-01-01</td>\n",
              "      <td>1</td>\n",
              "      <td>hotmail.it</td>\n",
              "      <td>1.0</td>\n",
              "      <td>91059</td>\n",
              "      <td>4</td>\n",
              "      <td>(missing)</td>\n",
              "      <td>1</td>\n",
              "      <td>1</td>\n",
              "      <td>1</td>\n",
              "    </tr>\n",
              "    <tr>\n",
              "      <th>369468</th>\n",
              "      <td>105946</td>\n",
              "      <td>8</td>\n",
              "      <td>STANDARD</td>\n",
              "      <td>1</td>\n",
              "      <td>1</td>\n",
              "      <td>2018-01-01</td>\n",
              "      <td>43</td>\n",
              "      <td>2018-01-01</td>\n",
              "      <td>1</td>\n",
              "      <td>hotmail.it</td>\n",
              "      <td>1.0</td>\n",
              "      <td>91057</td>\n",
              "      <td>4</td>\n",
              "      <td>(missing)</td>\n",
              "      <td>1</td>\n",
              "      <td>1</td>\n",
              "      <td>1</td>\n",
              "    </tr>\n",
              "    <tr>\n",
              "      <th>369469</th>\n",
              "      <td>105944</td>\n",
              "      <td>6</td>\n",
              "      <td>STANDARD</td>\n",
              "      <td>1</td>\n",
              "      <td>1</td>\n",
              "      <td>2018-01-01</td>\n",
              "      <td>27</td>\n",
              "      <td>2018-01-01</td>\n",
              "      <td>1</td>\n",
              "      <td>gmail.com</td>\n",
              "      <td>1.0</td>\n",
              "      <td>91055</td>\n",
              "      <td>4</td>\n",
              "      <td>(missing)</td>\n",
              "      <td>1</td>\n",
              "      <td>1</td>\n",
              "      <td>1</td>\n",
              "    </tr>\n",
              "    <tr>\n",
              "      <th>369470</th>\n",
              "      <td>105942</td>\n",
              "      <td>4</td>\n",
              "      <td>STANDARD</td>\n",
              "      <td>1</td>\n",
              "      <td>1</td>\n",
              "      <td>2018-01-01</td>\n",
              "      <td>46</td>\n",
              "      <td>2018-01-01</td>\n",
              "      <td>1</td>\n",
              "      <td>hotmail.it</td>\n",
              "      <td>1.0</td>\n",
              "      <td>91053</td>\n",
              "      <td>4</td>\n",
              "      <td>(missing)</td>\n",
              "      <td>1</td>\n",
              "      <td>1</td>\n",
              "      <td>1</td>\n",
              "    </tr>\n",
              "    <tr>\n",
              "      <th>369471</th>\n",
              "      <td>105941</td>\n",
              "      <td>3</td>\n",
              "      <td>STANDARD</td>\n",
              "      <td>1</td>\n",
              "      <td>1</td>\n",
              "      <td>2018-01-01</td>\n",
              "      <td>9</td>\n",
              "      <td>2018-01-01</td>\n",
              "      <td>1</td>\n",
              "      <td>hotmail.com</td>\n",
              "      <td>1.0</td>\n",
              "      <td>91052</td>\n",
              "      <td>4</td>\n",
              "      <td>(missing)</td>\n",
              "      <td>0</td>\n",
              "      <td>1</td>\n",
              "      <td>0</td>\n",
              "    </tr>\n",
              "  </tbody>\n",
              "</table>\n",
              "<p>369472 rows × 17 columns</p>\n",
              "</div>\n",
              "      <button class=\"colab-df-convert\" onclick=\"convertToInteractive('df-762b1f71-17b9-4c3c-8a40-99e2ad9d9ee6')\"\n",
              "              title=\"Convert this dataframe to an interactive table.\"\n",
              "              style=\"display:none;\">\n",
              "        \n",
              "  <svg xmlns=\"http://www.w3.org/2000/svg\" height=\"24px\"viewBox=\"0 0 24 24\"\n",
              "       width=\"24px\">\n",
              "    <path d=\"M0 0h24v24H0V0z\" fill=\"none\"/>\n",
              "    <path d=\"M18.56 5.44l.94 2.06.94-2.06 2.06-.94-2.06-.94-.94-2.06-.94 2.06-2.06.94zm-11 1L8.5 8.5l.94-2.06 2.06-.94-2.06-.94L8.5 2.5l-.94 2.06-2.06.94zm10 10l.94 2.06.94-2.06 2.06-.94-2.06-.94-.94-2.06-.94 2.06-2.06.94z\"/><path d=\"M17.41 7.96l-1.37-1.37c-.4-.4-.92-.59-1.43-.59-.52 0-1.04.2-1.43.59L10.3 9.45l-7.72 7.72c-.78.78-.78 2.05 0 2.83L4 21.41c.39.39.9.59 1.41.59.51 0 1.02-.2 1.41-.59l7.78-7.78 2.81-2.81c.8-.78.8-2.07 0-2.86zM5.41 20L4 18.59l7.72-7.72 1.47 1.35L5.41 20z\"/>\n",
              "  </svg>\n",
              "      </button>\n",
              "      \n",
              "  <style>\n",
              "    .colab-df-container {\n",
              "      display:flex;\n",
              "      flex-wrap:wrap;\n",
              "      gap: 12px;\n",
              "    }\n",
              "\n",
              "    .colab-df-convert {\n",
              "      background-color: #E8F0FE;\n",
              "      border: none;\n",
              "      border-radius: 50%;\n",
              "      cursor: pointer;\n",
              "      display: none;\n",
              "      fill: #1967D2;\n",
              "      height: 32px;\n",
              "      padding: 0 0 0 0;\n",
              "      width: 32px;\n",
              "    }\n",
              "\n",
              "    .colab-df-convert:hover {\n",
              "      background-color: #E2EBFA;\n",
              "      box-shadow: 0px 1px 2px rgba(60, 64, 67, 0.3), 0px 1px 3px 1px rgba(60, 64, 67, 0.15);\n",
              "      fill: #174EA6;\n",
              "    }\n",
              "\n",
              "    [theme=dark] .colab-df-convert {\n",
              "      background-color: #3B4455;\n",
              "      fill: #D2E3FC;\n",
              "    }\n",
              "\n",
              "    [theme=dark] .colab-df-convert:hover {\n",
              "      background-color: #434B5C;\n",
              "      box-shadow: 0px 1px 3px 1px rgba(0, 0, 0, 0.15);\n",
              "      filter: drop-shadow(0px 1px 2px rgba(0, 0, 0, 0.3));\n",
              "      fill: #FFFFFF;\n",
              "    }\n",
              "  </style>\n",
              "\n",
              "      <script>\n",
              "        const buttonEl =\n",
              "          document.querySelector('#df-762b1f71-17b9-4c3c-8a40-99e2ad9d9ee6 button.colab-df-convert');\n",
              "        buttonEl.style.display =\n",
              "          google.colab.kernel.accessAllowed ? 'block' : 'none';\n",
              "\n",
              "        async function convertToInteractive(key) {\n",
              "          const element = document.querySelector('#df-762b1f71-17b9-4c3c-8a40-99e2ad9d9ee6');\n",
              "          const dataTable =\n",
              "            await google.colab.kernel.invokeFunction('convertToInteractive',\n",
              "                                                     [key], {});\n",
              "          if (!dataTable) return;\n",
              "\n",
              "          const docLinkHtml = 'Like what you see? Visit the ' +\n",
              "            '<a target=\"_blank\" href=https://colab.research.google.com/notebooks/data_table.ipynb>data table notebook</a>'\n",
              "            + ' to learn more about interactive tables.';\n",
              "          element.innerHTML = '';\n",
              "          dataTable['output_type'] = 'display_data';\n",
              "          await google.colab.output.renderOutput(dataTable, element);\n",
              "          const docLink = document.createElement('div');\n",
              "          docLink.innerHTML = docLinkHtml;\n",
              "          element.appendChild(docLink);\n",
              "        }\n",
              "      </script>\n",
              "    </div>\n",
              "  </div>\n",
              "  "
            ]
          },
          "metadata": {},
          "execution_count": 5
        }
      ],
      "source": [
        "df = pd.merge(left=df1, right=df2, how='inner', on='ID_CLI')\n",
        "pd.merge(left=df, right=df3, how='inner', on='ID_ADDRESS')\n",
        "pd.merge(left=df, right=df4, how='inner', on='ID_CLI')"
      ]
    },
    {
      "cell_type": "code",
      "execution_count": null,
      "metadata": {
        "id": "7zKKF-aundmI"
      },
      "outputs": [],
      "source": [
        "df = pd.merge(left=df, right=df7_churn, how='inner', on='ID_CLI')"
      ]
    },
    {
      "cell_type": "code",
      "execution_count": null,
      "metadata": {
        "colab": {
          "base_uri": "https://localhost:8080/"
        },
        "id": "vyjb7Fr2-17z",
        "outputId": "bbfb926e-065b-456c-b6ec-e8a8eee44b30"
      },
      "outputs": [
        {
          "output_type": "execute_result",
          "data": {
            "text/plain": [
              "{int64: ['ID_CLI', 'ID_FID', 'LAST_TYP_CLI_FID', 'LAST_STATUS_FID', 'FIRST_ID_NEG', 'NUM_FIDs', 'ID_ADDRESS', 'TYP_CLI_ACCOUNT', 'CHURN'], float64: ['W_PHONE'], object: ['LAST_COD_FID', 'LAST_DT_ACTIVE', 'FIRST_DT_ACTIVE', 'EMAIL_PROVIDER', 'TYP_JOB']}"
            ]
          },
          "metadata": {},
          "execution_count": 7
        }
      ],
      "source": [
        "df.columns.to_series().groupby(df.dtypes).groups"
      ]
    },
    {
      "cell_type": "code",
      "execution_count": null,
      "metadata": {
        "colab": {
          "base_uri": "https://localhost:8080/"
        },
        "id": "CUdTbUciVMYw",
        "outputId": "034dcb32-8125-4bbc-c390-fdbeb85e0fd3"
      },
      "outputs": [
        {
          "output_type": "execute_result",
          "data": {
            "text/plain": [
              "ID_CLI              False\n",
              "ID_FID              False\n",
              "LAST_COD_FID        False\n",
              "LAST_TYP_CLI_FID    False\n",
              "LAST_STATUS_FID     False\n",
              "LAST_DT_ACTIVE      False\n",
              "FIRST_ID_NEG        False\n",
              "FIRST_DT_ACTIVE     False\n",
              "NUM_FIDs            False\n",
              "EMAIL_PROVIDER      False\n",
              "W_PHONE             False\n",
              "ID_ADDRESS          False\n",
              "TYP_CLI_ACCOUNT     False\n",
              "TYP_JOB             False\n",
              "CHURN               False\n",
              "dtype: bool"
            ]
          },
          "metadata": {},
          "execution_count": 8
        }
      ],
      "source": [
        "df.isna().any()"
      ]
    },
    {
      "cell_type": "code",
      "execution_count": null,
      "metadata": {
        "id": "nVWDoHBhnhZf"
      },
      "outputs": [],
      "source": [
        "#df.to_csv('df_tot.csv', index=False)"
      ]
    },
    {
      "cell_type": "code",
      "execution_count": null,
      "metadata": {
        "colab": {
          "base_uri": "https://localhost:8080/"
        },
        "id": "sXtLJQms-8mY",
        "outputId": "eaddbc6b-9670-4ac8-d676-d55976bfd879"
      },
      "outputs": [
        {
          "output_type": "execute_result",
          "data": {
            "text/plain": [
              "                    ID_CLI    ID_FID  LAST_TYP_CLI_FID  LAST_STATUS_FID  \\\n",
              "ID_CLI            1.000000  0.755832         -0.032555         0.009151   \n",
              "ID_FID            0.755832  1.000000          0.011966         0.012299   \n",
              "LAST_TYP_CLI_FID -0.032555  0.011966          1.000000         0.061480   \n",
              "LAST_STATUS_FID   0.009151  0.012299          0.061480         1.000000   \n",
              "FIRST_ID_NEG     -0.088129 -0.065352          0.005690         0.012292   \n",
              "NUM_FIDs         -0.015456  0.030159          0.004586        -0.011670   \n",
              "W_PHONE          -0.009934 -0.052809          0.077604        -0.001375   \n",
              "ID_ADDRESS        0.916259  0.754918          0.002789        -0.003148   \n",
              "TYP_CLI_ACCOUNT   0.102399  0.036226         -0.016559         0.022342   \n",
              "CHURN            -0.085347 -0.133129         -0.012295        -0.051156   \n",
              "\n",
              "                  FIRST_ID_NEG  NUM_FIDs   W_PHONE  ID_ADDRESS  \\\n",
              "ID_CLI               -0.088129 -0.015456 -0.009934    0.916259   \n",
              "ID_FID               -0.065352  0.030159 -0.052809    0.754918   \n",
              "LAST_TYP_CLI_FID      0.005690  0.004586  0.077604    0.002789   \n",
              "LAST_STATUS_FID       0.012292 -0.011670 -0.001375   -0.003148   \n",
              "FIRST_ID_NEG          1.000000 -0.014011 -0.006805   -0.081812   \n",
              "NUM_FIDs             -0.014011  1.000000 -0.024876   -0.010998   \n",
              "W_PHONE              -0.006805 -0.024876  1.000000   -0.022527   \n",
              "ID_ADDRESS           -0.081812 -0.010998 -0.022527    1.000000   \n",
              "TYP_CLI_ACCOUNT      -0.021752 -0.011176  0.005453    0.107364   \n",
              "CHURN                -0.001296 -0.012470  0.028764   -0.095246   \n",
              "\n",
              "                  TYP_CLI_ACCOUNT     CHURN  \n",
              "ID_CLI                   0.102399 -0.085347  \n",
              "ID_FID                   0.036226 -0.133129  \n",
              "LAST_TYP_CLI_FID        -0.016559 -0.012295  \n",
              "LAST_STATUS_FID          0.022342 -0.051156  \n",
              "FIRST_ID_NEG            -0.021752 -0.001296  \n",
              "NUM_FIDs                -0.011176 -0.012470  \n",
              "W_PHONE                  0.005453  0.028764  \n",
              "ID_ADDRESS               0.107364 -0.095246  \n",
              "TYP_CLI_ACCOUNT          1.000000  0.039335  \n",
              "CHURN                    0.039335  1.000000  "
            ],
            "text/html": [
              "\n",
              "  <div id=\"df-3d9718b3-297d-4940-81df-da6e326f2c1f\">\n",
              "    <div class=\"colab-df-container\">\n",
              "      <div>\n",
              "<style scoped>\n",
              "    .dataframe tbody tr th:only-of-type {\n",
              "        vertical-align: middle;\n",
              "    }\n",
              "\n",
              "    .dataframe tbody tr th {\n",
              "        vertical-align: top;\n",
              "    }\n",
              "\n",
              "    .dataframe thead th {\n",
              "        text-align: right;\n",
              "    }\n",
              "</style>\n",
              "<table border=\"1\" class=\"dataframe\">\n",
              "  <thead>\n",
              "    <tr style=\"text-align: right;\">\n",
              "      <th></th>\n",
              "      <th>ID_CLI</th>\n",
              "      <th>ID_FID</th>\n",
              "      <th>LAST_TYP_CLI_FID</th>\n",
              "      <th>LAST_STATUS_FID</th>\n",
              "      <th>FIRST_ID_NEG</th>\n",
              "      <th>NUM_FIDs</th>\n",
              "      <th>W_PHONE</th>\n",
              "      <th>ID_ADDRESS</th>\n",
              "      <th>TYP_CLI_ACCOUNT</th>\n",
              "      <th>CHURN</th>\n",
              "    </tr>\n",
              "  </thead>\n",
              "  <tbody>\n",
              "    <tr>\n",
              "      <th>ID_CLI</th>\n",
              "      <td>1.000000</td>\n",
              "      <td>0.755832</td>\n",
              "      <td>-0.032555</td>\n",
              "      <td>0.009151</td>\n",
              "      <td>-0.088129</td>\n",
              "      <td>-0.015456</td>\n",
              "      <td>-0.009934</td>\n",
              "      <td>0.916259</td>\n",
              "      <td>0.102399</td>\n",
              "      <td>-0.085347</td>\n",
              "    </tr>\n",
              "    <tr>\n",
              "      <th>ID_FID</th>\n",
              "      <td>0.755832</td>\n",
              "      <td>1.000000</td>\n",
              "      <td>0.011966</td>\n",
              "      <td>0.012299</td>\n",
              "      <td>-0.065352</td>\n",
              "      <td>0.030159</td>\n",
              "      <td>-0.052809</td>\n",
              "      <td>0.754918</td>\n",
              "      <td>0.036226</td>\n",
              "      <td>-0.133129</td>\n",
              "    </tr>\n",
              "    <tr>\n",
              "      <th>LAST_TYP_CLI_FID</th>\n",
              "      <td>-0.032555</td>\n",
              "      <td>0.011966</td>\n",
              "      <td>1.000000</td>\n",
              "      <td>0.061480</td>\n",
              "      <td>0.005690</td>\n",
              "      <td>0.004586</td>\n",
              "      <td>0.077604</td>\n",
              "      <td>0.002789</td>\n",
              "      <td>-0.016559</td>\n",
              "      <td>-0.012295</td>\n",
              "    </tr>\n",
              "    <tr>\n",
              "      <th>LAST_STATUS_FID</th>\n",
              "      <td>0.009151</td>\n",
              "      <td>0.012299</td>\n",
              "      <td>0.061480</td>\n",
              "      <td>1.000000</td>\n",
              "      <td>0.012292</td>\n",
              "      <td>-0.011670</td>\n",
              "      <td>-0.001375</td>\n",
              "      <td>-0.003148</td>\n",
              "      <td>0.022342</td>\n",
              "      <td>-0.051156</td>\n",
              "    </tr>\n",
              "    <tr>\n",
              "      <th>FIRST_ID_NEG</th>\n",
              "      <td>-0.088129</td>\n",
              "      <td>-0.065352</td>\n",
              "      <td>0.005690</td>\n",
              "      <td>0.012292</td>\n",
              "      <td>1.000000</td>\n",
              "      <td>-0.014011</td>\n",
              "      <td>-0.006805</td>\n",
              "      <td>-0.081812</td>\n",
              "      <td>-0.021752</td>\n",
              "      <td>-0.001296</td>\n",
              "    </tr>\n",
              "    <tr>\n",
              "      <th>NUM_FIDs</th>\n",
              "      <td>-0.015456</td>\n",
              "      <td>0.030159</td>\n",
              "      <td>0.004586</td>\n",
              "      <td>-0.011670</td>\n",
              "      <td>-0.014011</td>\n",
              "      <td>1.000000</td>\n",
              "      <td>-0.024876</td>\n",
              "      <td>-0.010998</td>\n",
              "      <td>-0.011176</td>\n",
              "      <td>-0.012470</td>\n",
              "    </tr>\n",
              "    <tr>\n",
              "      <th>W_PHONE</th>\n",
              "      <td>-0.009934</td>\n",
              "      <td>-0.052809</td>\n",
              "      <td>0.077604</td>\n",
              "      <td>-0.001375</td>\n",
              "      <td>-0.006805</td>\n",
              "      <td>-0.024876</td>\n",
              "      <td>1.000000</td>\n",
              "      <td>-0.022527</td>\n",
              "      <td>0.005453</td>\n",
              "      <td>0.028764</td>\n",
              "    </tr>\n",
              "    <tr>\n",
              "      <th>ID_ADDRESS</th>\n",
              "      <td>0.916259</td>\n",
              "      <td>0.754918</td>\n",
              "      <td>0.002789</td>\n",
              "      <td>-0.003148</td>\n",
              "      <td>-0.081812</td>\n",
              "      <td>-0.010998</td>\n",
              "      <td>-0.022527</td>\n",
              "      <td>1.000000</td>\n",
              "      <td>0.107364</td>\n",
              "      <td>-0.095246</td>\n",
              "    </tr>\n",
              "    <tr>\n",
              "      <th>TYP_CLI_ACCOUNT</th>\n",
              "      <td>0.102399</td>\n",
              "      <td>0.036226</td>\n",
              "      <td>-0.016559</td>\n",
              "      <td>0.022342</td>\n",
              "      <td>-0.021752</td>\n",
              "      <td>-0.011176</td>\n",
              "      <td>0.005453</td>\n",
              "      <td>0.107364</td>\n",
              "      <td>1.000000</td>\n",
              "      <td>0.039335</td>\n",
              "    </tr>\n",
              "    <tr>\n",
              "      <th>CHURN</th>\n",
              "      <td>-0.085347</td>\n",
              "      <td>-0.133129</td>\n",
              "      <td>-0.012295</td>\n",
              "      <td>-0.051156</td>\n",
              "      <td>-0.001296</td>\n",
              "      <td>-0.012470</td>\n",
              "      <td>0.028764</td>\n",
              "      <td>-0.095246</td>\n",
              "      <td>0.039335</td>\n",
              "      <td>1.000000</td>\n",
              "    </tr>\n",
              "  </tbody>\n",
              "</table>\n",
              "</div>\n",
              "      <button class=\"colab-df-convert\" onclick=\"convertToInteractive('df-3d9718b3-297d-4940-81df-da6e326f2c1f')\"\n",
              "              title=\"Convert this dataframe to an interactive table.\"\n",
              "              style=\"display:none;\">\n",
              "        \n",
              "  <svg xmlns=\"http://www.w3.org/2000/svg\" height=\"24px\"viewBox=\"0 0 24 24\"\n",
              "       width=\"24px\">\n",
              "    <path d=\"M0 0h24v24H0V0z\" fill=\"none\"/>\n",
              "    <path d=\"M18.56 5.44l.94 2.06.94-2.06 2.06-.94-2.06-.94-.94-2.06-.94 2.06-2.06.94zm-11 1L8.5 8.5l.94-2.06 2.06-.94-2.06-.94L8.5 2.5l-.94 2.06-2.06.94zm10 10l.94 2.06.94-2.06 2.06-.94-2.06-.94-.94-2.06-.94 2.06-2.06.94z\"/><path d=\"M17.41 7.96l-1.37-1.37c-.4-.4-.92-.59-1.43-.59-.52 0-1.04.2-1.43.59L10.3 9.45l-7.72 7.72c-.78.78-.78 2.05 0 2.83L4 21.41c.39.39.9.59 1.41.59.51 0 1.02-.2 1.41-.59l7.78-7.78 2.81-2.81c.8-.78.8-2.07 0-2.86zM5.41 20L4 18.59l7.72-7.72 1.47 1.35L5.41 20z\"/>\n",
              "  </svg>\n",
              "      </button>\n",
              "      \n",
              "  <style>\n",
              "    .colab-df-container {\n",
              "      display:flex;\n",
              "      flex-wrap:wrap;\n",
              "      gap: 12px;\n",
              "    }\n",
              "\n",
              "    .colab-df-convert {\n",
              "      background-color: #E8F0FE;\n",
              "      border: none;\n",
              "      border-radius: 50%;\n",
              "      cursor: pointer;\n",
              "      display: none;\n",
              "      fill: #1967D2;\n",
              "      height: 32px;\n",
              "      padding: 0 0 0 0;\n",
              "      width: 32px;\n",
              "    }\n",
              "\n",
              "    .colab-df-convert:hover {\n",
              "      background-color: #E2EBFA;\n",
              "      box-shadow: 0px 1px 2px rgba(60, 64, 67, 0.3), 0px 1px 3px 1px rgba(60, 64, 67, 0.15);\n",
              "      fill: #174EA6;\n",
              "    }\n",
              "\n",
              "    [theme=dark] .colab-df-convert {\n",
              "      background-color: #3B4455;\n",
              "      fill: #D2E3FC;\n",
              "    }\n",
              "\n",
              "    [theme=dark] .colab-df-convert:hover {\n",
              "      background-color: #434B5C;\n",
              "      box-shadow: 0px 1px 3px 1px rgba(0, 0, 0, 0.15);\n",
              "      filter: drop-shadow(0px 1px 2px rgba(0, 0, 0, 0.3));\n",
              "      fill: #FFFFFF;\n",
              "    }\n",
              "  </style>\n",
              "\n",
              "      <script>\n",
              "        const buttonEl =\n",
              "          document.querySelector('#df-3d9718b3-297d-4940-81df-da6e326f2c1f button.colab-df-convert');\n",
              "        buttonEl.style.display =\n",
              "          google.colab.kernel.accessAllowed ? 'block' : 'none';\n",
              "\n",
              "        async function convertToInteractive(key) {\n",
              "          const element = document.querySelector('#df-3d9718b3-297d-4940-81df-da6e326f2c1f');\n",
              "          const dataTable =\n",
              "            await google.colab.kernel.invokeFunction('convertToInteractive',\n",
              "                                                     [key], {});\n",
              "          if (!dataTable) return;\n",
              "\n",
              "          const docLinkHtml = 'Like what you see? Visit the ' +\n",
              "            '<a target=\"_blank\" href=https://colab.research.google.com/notebooks/data_table.ipynb>data table notebook</a>'\n",
              "            + ' to learn more about interactive tables.';\n",
              "          element.innerHTML = '';\n",
              "          dataTable['output_type'] = 'display_data';\n",
              "          await google.colab.output.renderOutput(dataTable, element);\n",
              "          const docLink = document.createElement('div');\n",
              "          docLink.innerHTML = docLinkHtml;\n",
              "          element.appendChild(docLink);\n",
              "        }\n",
              "      </script>\n",
              "    </div>\n",
              "  </div>\n",
              "  "
            ]
          },
          "metadata": {},
          "execution_count": 10
        }
      ],
      "source": [
        "df.corr()"
      ]
    },
    {
      "cell_type": "code",
      "execution_count": null,
      "metadata": {
        "colab": {
          "base_uri": "https://localhost:8080/"
        },
        "id": "W8r-z8W4_2qk",
        "outputId": "baf6018e-c55d-4240-928d-3e6ad3694c01"
      },
      "outputs": [
        {
          "output_type": "display_data",
          "data": {
            "text/plain": [
              "<Figure size 1440x1008 with 2 Axes>"
            ],
            "image/png": "[encoded data removed]"
          },
          "metadata": {
            "needs_background": "light"
          }
        }
      ],
      "source": [
        "corr_df = df.corr(method='pearson')\n",
        "\n",
        "plt.figure(figsize=(20, 14))\n",
        "sn.heatmap(corr_df, annot=True)\n",
        "plt.show()"
      ]
    },
    {
      "cell_type": "code",
      "execution_count": null,
      "metadata": {
        "id": "2gKXeLi2AaeB"
      },
      "outputs": [],
      "source": [
        "df.drop(columns = ['ID_ADDRESS'], inplace = True)\n",
        "df.reset_index(inplace = True, drop = True)"
      ]
    },
    {
      "cell_type": "code",
      "execution_count": null,
      "metadata": {
        "id": "96iIPfZxe5Tf"
      },
      "outputs": [],
      "source": [
        "# df = df[:7000].drop('TYP_CLI_ACCOUNT', axis = 1).copy()\n",
        "df = df.copy()"
      ]
    },
    {
      "cell_type": "code",
      "execution_count": null,
      "metadata": {
        "colab": {
          "base_uri": "https://localhost:8080/"
        },
        "id": "cryomUDufozM",
        "outputId": "2df62e58-1088-4411-ff9b-78dceec273e6"
      },
      "outputs": [
        {
          "output_type": "execute_result",
          "data": {
            "text/plain": [
              "         ID_CLI  ID_FID LAST_COD_FID  LAST_TYP_CLI_FID  LAST_STATUS_FID  \\\n",
              "0        199060  928121  PREMIUM BIZ                 1                1   \n",
              "1        199060  928121  PREMIUM BIZ                 1                1   \n",
              "2        199060  928121  PREMIUM BIZ                 1                1   \n",
              "3        199060  928121  PREMIUM BIZ                 1                1   \n",
              "4        199060  928121  PREMIUM BIZ                 1                1   \n",
              "...         ...     ...          ...               ...              ...   \n",
              "3900371  105941       3     STANDARD                 1                1   \n",
              "3900372  105941       3     STANDARD                 1                1   \n",
              "3900373  105941       3     STANDARD                 1                1   \n",
              "3900374  105941       3     STANDARD                 1                1   \n",
              "3900375  105941       3     STANDARD                 1                1   \n",
              "\n",
              "        LAST_DT_ACTIVE  FIRST_ID_NEG FIRST_DT_ACTIVE  NUM_FIDs EMAIL_PROVIDER  \\\n",
              "0           2019-05-11            19      2018-02-18         2      gmail.com   \n",
              "1           2019-05-11            19      2018-02-18         2      gmail.com   \n",
              "2           2019-05-11            19      2018-02-18         2      gmail.com   \n",
              "3           2019-05-11            19      2018-02-18         2      gmail.com   \n",
              "4           2019-05-11            19      2018-02-18         2      gmail.com   \n",
              "...                ...           ...             ...       ...            ...   \n",
              "3900371     2018-01-01             9      2018-01-01         1    hotmail.com   \n",
              "3900372     2018-01-01             9      2018-01-01         1    hotmail.com   \n",
              "3900373     2018-01-01             9      2018-01-01         1    hotmail.com   \n",
              "3900374     2018-01-01             9      2018-01-01         1    hotmail.com   \n",
              "3900375     2018-01-01             9      2018-01-01         1    hotmail.com   \n",
              "\n",
              "         W_PHONE  TYP_CLI_ACCOUNT    TYP_JOB  CHURN  \n",
              "0            1.0                2  (missing)      1  \n",
              "1            1.0                2  (missing)      1  \n",
              "2            1.0                2  (missing)      1  \n",
              "3            1.0                2  (missing)      1  \n",
              "4            1.0                2  (missing)      1  \n",
              "...          ...              ...        ...    ...  \n",
              "3900371      1.0                4  (missing)      0  \n",
              "3900372      1.0                4  (missing)      0  \n",
              "3900373      1.0                4  (missing)      0  \n",
              "3900374      1.0                4  (missing)      0  \n",
              "3900375      1.0                4  (missing)      0  \n",
              "\n",
              "[3900376 rows x 14 columns]"
            ],
            "text/html": [
              "\n",
              "  <div id=\"df-be095fe6-02ce-494c-88e0-8be5968c2a7c\">\n",
              "    <div class=\"colab-df-container\">\n",
              "      <div>\n",
              "<style scoped>\n",
              "    .dataframe tbody tr th:only-of-type {\n",
              "        vertical-align: middle;\n",
              "    }\n",
              "\n",
              "    .dataframe tbody tr th {\n",
              "        vertical-align: top;\n",
              "    }\n",
              "\n",
              "    .dataframe thead th {\n",
              "        text-align: right;\n",
              "    }\n",
              "</style>\n",
              "<table border=\"1\" class=\"dataframe\">\n",
              "  <thead>\n",
              "    <tr style=\"text-align: right;\">\n",
              "      <th></th>\n",
              "      <th>ID_CLI</th>\n",
              "      <th>ID_FID</th>\n",
              "      <th>LAST_COD_FID</th>\n",
              "      <th>LAST_TYP_CLI_FID</th>\n",
              "      <th>LAST_STATUS_FID</th>\n",
              "      <th>LAST_DT_ACTIVE</th>\n",
              "      <th>FIRST_ID_NEG</th>\n",
              "      <th>FIRST_DT_ACTIVE</th>\n",
              "      <th>NUM_FIDs</th>\n",
              "      <th>EMAIL_PROVIDER</th>\n",
              "      <th>W_PHONE</th>\n",
              "      <th>TYP_CLI_ACCOUNT</th>\n",
              "      <th>TYP_JOB</th>\n",
              "      <th>CHURN</th>\n",
              "    </tr>\n",
              "  </thead>\n",
              "  <tbody>\n",
              "    <tr>\n",
              "      <th>0</th>\n",
              "      <td>199060</td>\n",
              "      <td>928121</td>\n",
              "      <td>PREMIUM BIZ</td>\n",
              "      <td>1</td>\n",
              "      <td>1</td>\n",
              "      <td>2019-05-11</td>\n",
              "      <td>19</td>\n",
              "      <td>2018-02-18</td>\n",
              "      <td>2</td>\n",
              "      <td>gmail.com</td>\n",
              "      <td>1.0</td>\n",
              "      <td>2</td>\n",
              "      <td>(missing)</td>\n",
              "      <td>1</td>\n",
              "    </tr>\n",
              "    <tr>\n",
              "      <th>1</th>\n",
              "      <td>199060</td>\n",
              "      <td>928121</td>\n",
              "      <td>PREMIUM BIZ</td>\n",
              "      <td>1</td>\n",
              "      <td>1</td>\n",
              "      <td>2019-05-11</td>\n",
              "      <td>19</td>\n",
              "      <td>2018-02-18</td>\n",
              "      <td>2</td>\n",
              "      <td>gmail.com</td>\n",
              "      <td>1.0</td>\n",
              "      <td>2</td>\n",
              "      <td>(missing)</td>\n",
              "      <td>1</td>\n",
              "    </tr>\n",
              "    <tr>\n",
              "      <th>2</th>\n",
              "      <td>199060</td>\n",
              "      <td>928121</td>\n",
              "      <td>PREMIUM BIZ</td>\n",
              "      <td>1</td>\n",
              "      <td>1</td>\n",
              "      <td>2019-05-11</td>\n",
              "      <td>19</td>\n",
              "      <td>2018-02-18</td>\n",
              "      <td>2</td>\n",
              "      <td>gmail.com</td>\n",
              "      <td>1.0</td>\n",
              "      <td>2</td>\n",
              "      <td>(missing)</td>\n",
              "      <td>1</td>\n",
              "    </tr>\n",
              "    <tr>\n",
              "      <th>3</th>\n",
              "      <td>199060</td>\n",
              "      <td>928121</td>\n",
              "      <td>PREMIUM BIZ</td>\n",
              "      <td>1</td>\n",
              "      <td>1</td>\n",
              "      <td>2019-05-11</td>\n",
              "      <td>19</td>\n",
              "      <td>2018-02-18</td>\n",
              "      <td>2</td>\n",
              "      <td>gmail.com</td>\n",
              "      <td>1.0</td>\n",
              "      <td>2</td>\n",
              "      <td>(missing)</td>\n",
              "      <td>1</td>\n",
              "    </tr>\n",
              "    <tr>\n",
              "      <th>4</th>\n",
              "      <td>199060</td>\n",
              "      <td>928121</td>\n",
              "      <td>PREMIUM BIZ</td>\n",
              "      <td>1</td>\n",
              "      <td>1</td>\n",
              "      <td>2019-05-11</td>\n",
              "      <td>19</td>\n",
              "      <td>2018-02-18</td>\n",
              "      <td>2</td>\n",
              "      <td>gmail.com</td>\n",
              "      <td>1.0</td>\n",
              "      <td>2</td>\n",
              "      <td>(missing)</td>\n",
              "      <td>1</td>\n",
              "    </tr>\n",
              "    <tr>\n",
              "      <th>...</th>\n",
              "      <td>...</td>\n",
              "      <td>...</td>\n",
              "      <td>...</td>\n",
              "      <td>...</td>\n",
              "      <td>...</td>\n",
              "      <td>...</td>\n",
              "      <td>...</td>\n",
              "      <td>...</td>\n",
              "      <td>...</td>\n",
              "      <td>...</td>\n",
              "      <td>...</td>\n",
              "      <td>...</td>\n",
              "      <td>...</td>\n",
              "      <td>...</td>\n",
              "    </tr>\n",
              "    <tr>\n",
              "      <th>3900371</th>\n",
              "      <td>105941</td>\n",
              "      <td>3</td>\n",
              "      <td>STANDARD</td>\n",
              "      <td>1</td>\n",
              "      <td>1</td>\n",
              "      <td>2018-01-01</td>\n",
              "      <td>9</td>\n",
              "      <td>2018-01-01</td>\n",
              "      <td>1</td>\n",
              "      <td>hotmail.com</td>\n",
              "      <td>1.0</td>\n",
              "      <td>4</td>\n",
              "      <td>(missing)</td>\n",
              "      <td>0</td>\n",
              "    </tr>\n",
              "    <tr>\n",
              "      <th>3900372</th>\n",
              "      <td>105941</td>\n",
              "      <td>3</td>\n",
              "      <td>STANDARD</td>\n",
              "      <td>1</td>\n",
              "      <td>1</td>\n",
              "      <td>2018-01-01</td>\n",
              "      <td>9</td>\n",
              "      <td>2018-01-01</td>\n",
              "      <td>1</td>\n",
              "      <td>hotmail.com</td>\n",
              "      <td>1.0</td>\n",
              "      <td>4</td>\n",
              "      <td>(missing)</td>\n",
              "      <td>0</td>\n",
              "    </tr>\n",
              "    <tr>\n",
              "      <th>3900373</th>\n",
              "      <td>105941</td>\n",
              "      <td>3</td>\n",
              "      <td>STANDARD</td>\n",
              "      <td>1</td>\n",
              "      <td>1</td>\n",
              "      <td>2018-01-01</td>\n",
              "      <td>9</td>\n",
              "      <td>2018-01-01</td>\n",
              "      <td>1</td>\n",
              "      <td>hotmail.com</td>\n",
              "      <td>1.0</td>\n",
              "      <td>4</td>\n",
              "      <td>(missing)</td>\n",
              "      <td>0</td>\n",
              "    </tr>\n",
              "    <tr>\n",
              "      <th>3900374</th>\n",
              "      <td>105941</td>\n",
              "      <td>3</td>\n",
              "      <td>STANDARD</td>\n",
              "      <td>1</td>\n",
              "      <td>1</td>\n",
              "      <td>2018-01-01</td>\n",
              "      <td>9</td>\n",
              "      <td>2018-01-01</td>\n",
              "      <td>1</td>\n",
              "      <td>hotmail.com</td>\n",
              "      <td>1.0</td>\n",
              "      <td>4</td>\n",
              "      <td>(missing)</td>\n",
              "      <td>0</td>\n",
              "    </tr>\n",
              "    <tr>\n",
              "      <th>3900375</th>\n",
              "      <td>105941</td>\n",
              "      <td>3</td>\n",
              "      <td>STANDARD</td>\n",
              "      <td>1</td>\n",
              "      <td>1</td>\n",
              "      <td>2018-01-01</td>\n",
              "      <td>9</td>\n",
              "      <td>2018-01-01</td>\n",
              "      <td>1</td>\n",
              "      <td>hotmail.com</td>\n",
              "      <td>1.0</td>\n",
              "      <td>4</td>\n",
              "      <td>(missing)</td>\n",
              "      <td>0</td>\n",
              "    </tr>\n",
              "  </tbody>\n",
              "</table>\n",
              "<p>3900376 rows × 14 columns</p>\n",
              "</div>\n",
              "      <button class=\"colab-df-convert\" onclick=\"convertToInteractive('df-be095fe6-02ce-494c-88e0-8be5968c2a7c')\"\n",
              "              title=\"Convert this dataframe to an interactive table.\"\n",
              "              style=\"display:none;\">\n",
              "        \n",
              "  <svg xmlns=\"http://www.w3.org/2000/svg\" height=\"24px\"viewBox=\"0 0 24 24\"\n",
              "       width=\"24px\">\n",
              "    <path d=\"M0 0h24v24H0V0z\" fill=\"none\"/>\n",
              "    <path d=\"M18.56 5.44l.94 2.06.94-2.06 2.06-.94-2.06-.94-.94-2.06-.94 2.06-2.06.94zm-11 1L8.5 8.5l.94-2.06 2.06-.94-2.06-.94L8.5 2.5l-.94 2.06-2.06.94zm10 10l.94 2.06.94-2.06 2.06-.94-2.06-.94-.94-2.06-.94 2.06-2.06.94z\"/><path d=\"M17.41 7.96l-1.37-1.37c-.4-.4-.92-.59-1.43-.59-.52 0-1.04.2-1.43.59L10.3 9.45l-7.72 7.72c-.78.78-.78 2.05 0 2.83L4 21.41c.39.39.9.59 1.41.59.51 0 1.02-.2 1.41-.59l7.78-7.78 2.81-2.81c.8-.78.8-2.07 0-2.86zM5.41 20L4 18.59l7.72-7.72 1.47 1.35L5.41 20z\"/>\n",
              "  </svg>\n",
              "      </button>\n",
              "      \n",
              "  <style>\n",
              "    .colab-df-container {\n",
              "      display:flex;\n",
              "      flex-wrap:wrap;\n",
              "      gap: 12px;\n",
              "    }\n",
              "\n",
              "    .colab-df-convert {\n",
              "      background-color: #E8F0FE;\n",
              "      border: none;\n",
              "      border-radius: 50%;\n",
              "      cursor: pointer;\n",
              "      display: none;\n",
              "      fill: #1967D2;\n",
              "      height: 32px;\n",
              "      padding: 0 0 0 0;\n",
              "      width: 32px;\n",
              "    }\n",
              "\n",
              "    .colab-df-convert:hover {\n",
              "      background-color: #E2EBFA;\n",
              "      box-shadow: 0px 1px 2px rgba(60, 64, 67, 0.3), 0px 1px 3px 1px rgba(60, 64, 67, 0.15);\n",
              "      fill: #174EA6;\n",
              "    }\n",
              "\n",
              "    [theme=dark] .colab-df-convert {\n",
              "      background-color: #3B4455;\n",
              "      fill: #D2E3FC;\n",
              "    }\n",
              "\n",
              "    [theme=dark] .colab-df-convert:hover {\n",
              "      background-color: #434B5C;\n",
              "      box-shadow: 0px 1px 3px 1px rgba(0, 0, 0, 0.15);\n",
              "      filter: drop-shadow(0px 1px 2px rgba(0, 0, 0, 0.3));\n",
              "      fill: #FFFFFF;\n",
              "    }\n",
              "  </style>\n",
              "\n",
              "      <script>\n",
              "        const buttonEl =\n",
              "          document.querySelector('#df-be095fe6-02ce-494c-88e0-8be5968c2a7c button.colab-df-convert');\n",
              "        buttonEl.style.display =\n",
              "          google.colab.kernel.accessAllowed ? 'block' : 'none';\n",
              "\n",
              "        async function convertToInteractive(key) {\n",
              "          const element = document.querySelector('#df-be095fe6-02ce-494c-88e0-8be5968c2a7c');\n",
              "          const dataTable =\n",
              "            await google.colab.kernel.invokeFunction('convertToInteractive',\n",
              "                                                     [key], {});\n",
              "          if (!dataTable) return;\n",
              "\n",
              "          const docLinkHtml = 'Like what you see? Visit the ' +\n",
              "            '<a target=\"_blank\" href=https://colab.research.google.com/notebooks/data_table.ipynb>data table notebook</a>'\n",
              "            + ' to learn more about interactive tables.';\n",
              "          element.innerHTML = '';\n",
              "          dataTable['output_type'] = 'display_data';\n",
              "          await google.colab.output.renderOutput(dataTable, element);\n",
              "          const docLink = document.createElement('div');\n",
              "          docLink.innerHTML = docLinkHtml;\n",
              "          element.appendChild(docLink);\n",
              "        }\n",
              "      </script>\n",
              "    </div>\n",
              "  </div>\n",
              "  "
            ]
          },
          "metadata": {},
          "execution_count": 14
        }
      ],
      "source": [
        "df"
      ]
    },
    {
      "cell_type": "markdown",
      "metadata": {
        "id": "JssSW1rU7hwP"
      },
      "source": [
        "# Modello\n",
        "[Link modello](https://towardsdatascience.com/predict-customer-churn-in-python-e8cd6d3aaa7)"
      ]
    },
    {
      "cell_type": "code",
      "execution_count": null,
      "metadata": {
        "colab": {
          "base_uri": "https://localhost:8080/"
        },
        "id": "IjEJEbF8FG2-",
        "outputId": "a9e57317-5ce0-4e1c-d1a7-cb3c6ddb452f"
      },
      "outputs": [
        {
          "output_type": "stream",
          "name": "stdout",
          "text": [
            "<class 'pandas.core.frame.DataFrame'>\n",
            "RangeIndex: 3900376 entries, 0 to 3900375\n",
            "Data columns (total 14 columns):\n",
            " #   Column            Dtype  \n",
            "---  ------            -----  \n",
            " 0   ID_CLI            int64  \n",
            " 1   ID_FID            int64  \n",
            " 2   LAST_COD_FID      object \n",
            " 3   LAST_TYP_CLI_FID  int64  \n",
            " 4   LAST_STATUS_FID   int64  \n",
            " 5   LAST_DT_ACTIVE    object \n",
            " 6   FIRST_ID_NEG      int64  \n",
            " 7   FIRST_DT_ACTIVE   object \n",
            " 8   NUM_FIDs          int64  \n",
            " 9   EMAIL_PROVIDER    object \n",
            " 10  W_PHONE           float64\n",
            " 11  TYP_CLI_ACCOUNT   int64  \n",
            " 12  TYP_JOB           object \n",
            " 13  CHURN             int64  \n",
            "dtypes: float64(1), int64(8), object(5)\n",
            "memory usage: 416.6+ MB\n"
          ]
        }
      ],
      "source": [
        "df.info()"
      ]
    },
    {
      "cell_type": "code",
      "execution_count": null,
      "metadata": {
        "colab": {
          "base_uri": "https://localhost:8080/"
        },
        "id": "Ab5ELYO_F-BF",
        "outputId": "9853a28a-d737-4664-bf1d-5b0b6b52c988"
      },
      "outputs": [
        {
          "output_type": "execute_result",
          "data": {
            "text/plain": [
              "0    2323879\n",
              "1    1576497\n",
              "Name: CHURN, dtype: int64"
            ]
          },
          "metadata": {},
          "execution_count": 16
        }
      ],
      "source": [
        "df[\"CHURN\"].value_counts()"
      ]
    },
    {
      "cell_type": "code",
      "execution_count": null,
      "metadata": {
        "colab": {
          "base_uri": "https://localhost:8080/",
          "height": 603
        },
        "id": "N8RbycrZGREm",
        "outputId": "12178251-6afc-4596-e94e-b410d1e7527d"
      },
      "outputs": [
        {
          "output_type": "stream",
          "name": "stderr",
          "text": [
            "/usr/local/lib/python3.7/dist-packages/ipykernel_launcher.py:4: SettingWithCopyWarning: \n",
            "A value is trying to be set on a copy of a slice from a DataFrame.\n",
            "Try using .loc[row_indexer,col_indexer] = value instead\n",
            "\n",
            "See the caveats in the documentation: https://pandas.pydata.org/pandas-docs/stable/user_guide/indexing.html#returning-a-view-versus-a-copy\n",
            "  after removing the cwd from sys.path.\n"
          ]
        },
        {
          "output_type": "display_data",
          "data": {
            "text/plain": [
              "<Figure size 864x504 with 1 Axes>"
            ],
            "image/png": "[encoded data removed]"
          },
          "metadata": {
            "needs_background": "light"
          }
        }
      ],
      "source": [
        "import matplotlib.ticker as mtick\n",
        "\n",
        "churn_rate = df[[\"CHURN\", \"ID_CLI\"]]\n",
        "churn_rate[\"churn_label\"] = pd.Series(np.where((churn_rate[\"CHURN\"] == 0), \"No\", \"Yes\"))\n",
        "sectors = churn_rate.groupby(\"churn_label\")\n",
        "churn_rate = pd.DataFrame(sectors[\"ID_CLI\"].count())\n",
        "churn_rate [\"Churn Rate\"] = (churn_rate [\"ID_CLI\"]/sum(churn_rate [\"ID_CLI\"]))*100\n",
        "\n",
        "ax = churn_rate[[\"Churn Rate\"]].plot.bar(title = 'Overall Churn Rate', legend = True, table = False, grid = False, subplots = False,\n",
        "                                         figsize = (12, 7), color = '#ec838a', fontsize = 15, stacked = False, ylim = (0,100))\n",
        "\n",
        "plt.ylabel('Proportion of Customers', horizontalalignment=\"center\", fontstyle = \"normal\", fontsize = \"large\", fontfamily = \"sans-serif\")\n",
        "plt.xlabel('Churn', horizontalalignment=\"center\", fontstyle = \"normal\", fontsize = \"large\", fontfamily = \"sans-serif\")\n",
        "plt.title('Overall Churn Rate \\n', horizontalalignment=\"center\", fontstyle = \"normal\", fontsize = \"22\", fontfamily = \"sans-serif\")\n",
        "\n",
        "#plt.legend(loc ='top right', fontsize = \"medium\")\n",
        "plt.xticks(rotation=0, horizontalalignment=\"center\")\n",
        "plt.yticks(rotation=0, horizontalalignment=\"right\")\n",
        "\n",
        "ax.yaxis.set_major_formatter(mtick.PercentFormatter())\n",
        "x_labels = np.array(churn_rate[[\"ID_CLI\"]])\n",
        "\n",
        "def add_value_labels(ax, spacing=5):   \n",
        "  for rect in ax.patches:\n",
        "    y_value = rect.get_height()\n",
        "    x_value = rect.get_x() + rect.get_width()/2\n",
        "    space = spacing\n",
        "    va = 'bottom'\n",
        "    if y_value < 0:\n",
        "      space *= -1\n",
        "      va = 'top'\n",
        "    label = \"{:.1f}%\".format(y_value)\n",
        "  ax.annotate(label, (x_value, y_value), xytext=(0, space), textcoords=\"offset points\", ha='center',va=va)\n",
        "\n",
        "add_value_labels(ax)\n",
        "ax.autoscale(enable=False, axis='both', tight=False)"
      ]
    },
    {
      "cell_type": "code",
      "source": [
        "import matplotlib.ticker as mtick\n",
        "contract_churn = df.groupby(['LAST_COD_FID','CHURN']).size().unstack()\n",
        "contract_churn.rename(columns={0:'No', 1:'Yes'}, inplace=True)\n",
        "colors  = ['#ec838a','#9b9c9a']\n",
        "ax = (contract_churn.T*100.0 / contract_churn.T.sum()).T.plot(kind='bar',width = 0.3,stacked = True,rot = 0,figsize = (12,7),color = colors)\n",
        "plt.ylabel('Proportion of Customers\\n', horizontalalignment=\"center\",fontstyle = \"normal\", \n",
        "           fontsize = \"large\", fontfamily = \"sans-serif\")\n",
        "plt.xlabel('Type Fidelity Program\\n',horizontalalignment=\"center\", fontstyle = \"normal\", fontsize = \"large\", \n",
        "           fontfamily = \"sans-serif\")\n",
        "plt.title('Churn Rate by Contract type \\n', horizontalalignment=\"center\", fontstyle = \"normal\", \n",
        "          fontsize = \"22\", fontfamily = \"sans-serif\")\n",
        "plt.legend(loc='top right', fontsize = \"medium\")\n",
        "plt.xticks(rotation=0, horizontalalignment=\"center\")\n",
        "plt.yticks(rotation=0, horizontalalignment=\"right\")\n",
        "ax.yaxis.set_major_formatter(mtick.PercentFormatter())\n",
        "for p in ax.patches:\n",
        "    width, height = p.get_width(), p.get_height()\n",
        "    x, y = p.get_xy() \n",
        "    ax.text(x+width/2, y+height/2, '{:.1f}%'.format(height), horizontalalignment='center', verticalalignment='center')\n",
        "ax.autoscale(enable=False, axis='both', tight=False)"
      ],
      "metadata": {
        "colab": {
          "base_uri": "https://localhost:8080/",
          "height": 756
        },
        "id": "swc2IjPmFR2Y",
        "outputId": "151dbb6c-be9d-49c3-dc4d-3ff45eeadf08"
      },
      "execution_count": null,
      "outputs": [
        {
          "output_type": "stream",
          "name": "stderr",
          "text": [
            "/usr/local/lib/python3.7/dist-packages/ipykernel_launcher.py:12: MatplotlibDeprecationWarning: Unrecognized location 'top right'. Falling back on 'best'; valid locations are\n",
            "\tbest\n",
            "\tupper right\n",
            "\tupper left\n",
            "\tlower left\n",
            "\tlower right\n",
            "\tright\n",
            "\tcenter left\n",
            "\tcenter right\n",
            "\tlower center\n",
            "\tupper center\n",
            "\tcenter\n",
            "This will raise an exception in 3.3.\n",
            "  if sys.path[0] == '':\n"
          ]
        },
        {
          "output_type": "display_data",
          "data": {
            "text/plain": [
              "<Figure size 864x504 with 1 Axes>"
            ],
            "image/png": "[encoded data removed]"
          },
          "metadata": {
            "needs_background": "light"
          }
        }
      ]
    },
    {
      "cell_type": "markdown",
      "source": [
        "Si nota che gli utenti con un programma di fedeltà standard hanno più probabilità di essere dei churn."
      ],
      "metadata": {
        "id": "7kuVxmXTINX0"
      }
    },
    {
      "cell_type": "code",
      "execution_count": null,
      "metadata": {
        "colab": {
          "base_uri": "https://localhost:8080/",
          "height": 951
        },
        "id": "IIR5wxPtGaam",
        "outputId": "269ae89b-a0b4-47a9-935b-439ea89f9280"
      },
      "outputs": [
        {
          "output_type": "stream",
          "name": "stdout",
          "text": [
            "Most Positive Correlations: \n",
            " TYP_CLI_ACCOUNT    0.039335\n",
            "W_PHONE            0.028764\n",
            "dtype: float64\n",
            "\n",
            "Most Negative Correlations: \n",
            " FIRST_ID_NEG       -0.001296\n",
            "LAST_TYP_CLI_FID   -0.012295\n",
            "NUM_FIDs           -0.012470\n",
            "LAST_STATUS_FID    -0.051156\n",
            "dtype: float64\n"
          ]
        },
        {
          "output_type": "execute_result",
          "data": {
            "text/plain": [
              "Text(0.5, 1.0, 'Correlation with Churn Rate \\n')"
            ]
          },
          "metadata": {},
          "execution_count": 19
        },
        {
          "output_type": "display_data",
          "data": {
            "text/plain": [
              "<Figure size 1296x720 with 1 Axes>"
            ],
            "image/png": "[encoded data removed]"
          },
          "metadata": {
            "needs_background": "light"
          }
        }
      ],
      "source": [
        "df2 = df[[ 'LAST_TYP_CLI_FID', 'LAST_STATUS_FID', 'FIRST_ID_NEG', 'NUM_FIDs', 'W_PHONE', 'TYP_CLI_ACCOUNT' ]]\n",
        "correlations = df2.corrwith(df.CHURN)\n",
        "correlations = correlations[correlations!=1]\n",
        "positive_correlations = correlations[correlations >0].sort_values(ascending = False)\n",
        "negative_correlations = correlations[correlations<0].sort_values(ascending = False)\n",
        "print('Most Positive Correlations: \\n', positive_correlations)\n",
        "print('\\nMost Negative Correlations: \\n', negative_correlations)\n",
        "\n",
        "correlations = df2.corrwith(df.CHURN)\n",
        "correlations = correlations[correlations!=1]\n",
        "correlations.plot.bar(figsize = (18, 10), fontsize = 15, color = '#ec838a', rot = 45, grid = True)\n",
        "plt.title('Correlation with Churn Rate \\n', horizontalalignment = \"center\", fontstyle = \"normal\", fontsize = \"22\", fontfamily = \"sans-serif\")"
      ]
    },
    {
      "cell_type": "markdown",
      "source": [
        "La maggior correlazione positiva si ha con la variabile TYP_CLI_ACCOUNT ovvero che spiega che tipo di account ha l'utente, mentre la maggior correlazione negativa si ha con la variabile LAST_STATUS_FID che spiega se l'account è attivo oppure no."
      ],
      "metadata": {
        "id": "AuVby4JKQRbt"
      }
    },
    {
      "cell_type": "code",
      "execution_count": null,
      "metadata": {
        "colab": {
          "base_uri": "https://localhost:8080/",
          "height": 946
        },
        "id": "POYG7mgUH0la",
        "outputId": "e8b75b26-aea9-4280-d275-1d335c4b8bd2"
      },
      "outputs": [
        {
          "output_type": "stream",
          "name": "stderr",
          "text": [
            "/usr/local/lib/python3.7/dist-packages/ipykernel_launcher.py:5: DeprecationWarning: `np.bool` is a deprecated alias for the builtin `bool`. To silence this warning, use `bool` by itself. Doing this will not modify any behavior and is safe. If you specifically wanted the numpy scalar type, use `np.bool_` here.\n",
            "Deprecated in NumPy 1.20; for more details and guidance: https://numpy.org/devdocs/release/1.20.0-notes.html#deprecations\n",
            "  \"\"\"\n"
          ]
        },
        {
          "output_type": "execute_result",
          "data": {
            "text/plain": [
              "<matplotlib.axes._subplots.AxesSubplot at 0x7f7b1f9920d0>"
            ]
          },
          "metadata": {},
          "execution_count": 20
        },
        {
          "output_type": "display_data",
          "data": {
            "text/plain": [
              "<Figure size 1296x1080 with 2 Axes>"
            ],
            "image/png": "[encoded data removed]"
          },
          "metadata": {}
        }
      ],
      "source": [
        "#Set and compute the Correlation Matrix:\n",
        "sn.set(style=\"white\")\n",
        "corr = df2.corr()\n",
        "#Generate a mask for the upper triangle:\n",
        "mask = np.zeros_like(corr, dtype=np.bool)\n",
        "mask[np.triu_indices_from(mask)] = True\n",
        "#Set up the matplotlib figure and a diverging colormap:\n",
        "f, ax = plt.subplots(figsize=(18, 15))\n",
        "cmap = sn.diverging_palette(220, 10, as_cmap=True)\n",
        "#Draw the heatmap with the mask and correct aspect ratio:\n",
        "sn.heatmap(corr, mask=mask, cmap=cmap, vmax=.3, center=0,\n",
        "square=True, linewidths=.5, cbar_kws={\"shrink\": .5})"
      ]
    },
    {
      "cell_type": "markdown",
      "source": [
        "Si verifica della multicollinearità utilizzando VIF: proviamo a esaminare la multicollinearità utilizzando i fattori di inflazione variabili (VIF). A differenza della matrice di correlazione, VIF determina la forza della correlazione di una variabile con un gruppo di altre variabili indipendenti in un set di dati. VIF inizia di solito a 1 e ovunque superiore a 10 indica un'elevata multicollinearità tra le variabili indipendenti."
      ],
      "metadata": {
        "id": "gatZYPMiKPRN"
      }
    },
    {
      "cell_type": "code",
      "execution_count": null,
      "metadata": {
        "colab": {
          "base_uri": "https://localhost:8080/",
          "height": 238
        },
        "id": "PSNfqFSIH-nx",
        "outputId": "1a1dac4e-70b7-4004-86d2-bfb5508f7c38"
      },
      "outputs": [
        {
          "output_type": "execute_result",
          "data": {
            "text/plain": [
              "          variables         VIF\n",
              "0  LAST_TYP_CLI_FID   83.942356\n",
              "1   LAST_STATUS_FID  194.439353\n",
              "2      FIRST_ID_NEG    3.466903\n",
              "3          NUM_FIDs  181.389542\n",
              "4           W_PHONE    9.967635\n",
              "5   TYP_CLI_ACCOUNT   29.333544"
            ],
            "text/html": [
              "\n",
              "  <div id=\"df-9ec936dd-1e70-4508-a666-71ee0c8f8e4e\">\n",
              "    <div class=\"colab-df-container\">\n",
              "      <div>\n",
              "<style scoped>\n",
              "    .dataframe tbody tr th:only-of-type {\n",
              "        vertical-align: middle;\n",
              "    }\n",
              "\n",
              "    .dataframe tbody tr th {\n",
              "        vertical-align: top;\n",
              "    }\n",
              "\n",
              "    .dataframe thead th {\n",
              "        text-align: right;\n",
              "    }\n",
              "</style>\n",
              "<table border=\"1\" class=\"dataframe\">\n",
              "  <thead>\n",
              "    <tr style=\"text-align: right;\">\n",
              "      <th></th>\n",
              "      <th>variables</th>\n",
              "      <th>VIF</th>\n",
              "    </tr>\n",
              "  </thead>\n",
              "  <tbody>\n",
              "    <tr>\n",
              "      <th>0</th>\n",
              "      <td>LAST_TYP_CLI_FID</td>\n",
              "      <td>83.942356</td>\n",
              "    </tr>\n",
              "    <tr>\n",
              "      <th>1</th>\n",
              "      <td>LAST_STATUS_FID</td>\n",
              "      <td>194.439353</td>\n",
              "    </tr>\n",
              "    <tr>\n",
              "      <th>2</th>\n",
              "      <td>FIRST_ID_NEG</td>\n",
              "      <td>3.466903</td>\n",
              "    </tr>\n",
              "    <tr>\n",
              "      <th>3</th>\n",
              "      <td>NUM_FIDs</td>\n",
              "      <td>181.389542</td>\n",
              "    </tr>\n",
              "    <tr>\n",
              "      <th>4</th>\n",
              "      <td>W_PHONE</td>\n",
              "      <td>9.967635</td>\n",
              "    </tr>\n",
              "    <tr>\n",
              "      <th>5</th>\n",
              "      <td>TYP_CLI_ACCOUNT</td>\n",
              "      <td>29.333544</td>\n",
              "    </tr>\n",
              "  </tbody>\n",
              "</table>\n",
              "</div>\n",
              "      <button class=\"colab-df-convert\" onclick=\"convertToInteractive('df-9ec936dd-1e70-4508-a666-71ee0c8f8e4e')\"\n",
              "              title=\"Convert this dataframe to an interactive table.\"\n",
              "              style=\"display:none;\">\n",
              "        \n",
              "  <svg xmlns=\"http://www.w3.org/2000/svg\" height=\"24px\"viewBox=\"0 0 24 24\"\n",
              "       width=\"24px\">\n",
              "    <path d=\"M0 0h24v24H0V0z\" fill=\"none\"/>\n",
              "    <path d=\"M18.56 5.44l.94 2.06.94-2.06 2.06-.94-2.06-.94-.94-2.06-.94 2.06-2.06.94zm-11 1L8.5 8.5l.94-2.06 2.06-.94-2.06-.94L8.5 2.5l-.94 2.06-2.06.94zm10 10l.94 2.06.94-2.06 2.06-.94-2.06-.94-.94-2.06-.94 2.06-2.06.94z\"/><path d=\"M17.41 7.96l-1.37-1.37c-.4-.4-.92-.59-1.43-.59-.52 0-1.04.2-1.43.59L10.3 9.45l-7.72 7.72c-.78.78-.78 2.05 0 2.83L4 21.41c.39.39.9.59 1.41.59.51 0 1.02-.2 1.41-.59l7.78-7.78 2.81-2.81c.8-.78.8-2.07 0-2.86zM5.41 20L4 18.59l7.72-7.72 1.47 1.35L5.41 20z\"/>\n",
              "  </svg>\n",
              "      </button>\n",
              "      \n",
              "  <style>\n",
              "    .colab-df-container {\n",
              "      display:flex;\n",
              "      flex-wrap:wrap;\n",
              "      gap: 12px;\n",
              "    }\n",
              "\n",
              "    .colab-df-convert {\n",
              "      background-color: #E8F0FE;\n",
              "      border: none;\n",
              "      border-radius: 50%;\n",
              "      cursor: pointer;\n",
              "      display: none;\n",
              "      fill: #1967D2;\n",
              "      height: 32px;\n",
              "      padding: 0 0 0 0;\n",
              "      width: 32px;\n",
              "    }\n",
              "\n",
              "    .colab-df-convert:hover {\n",
              "      background-color: #E2EBFA;\n",
              "      box-shadow: 0px 1px 2px rgba(60, 64, 67, 0.3), 0px 1px 3px 1px rgba(60, 64, 67, 0.15);\n",
              "      fill: #174EA6;\n",
              "    }\n",
              "\n",
              "    [theme=dark] .colab-df-convert {\n",
              "      background-color: #3B4455;\n",
              "      fill: #D2E3FC;\n",
              "    }\n",
              "\n",
              "    [theme=dark] .colab-df-convert:hover {\n",
              "      background-color: #434B5C;\n",
              "      box-shadow: 0px 1px 3px 1px rgba(0, 0, 0, 0.15);\n",
              "      filter: drop-shadow(0px 1px 2px rgba(0, 0, 0, 0.3));\n",
              "      fill: #FFFFFF;\n",
              "    }\n",
              "  </style>\n",
              "\n",
              "      <script>\n",
              "        const buttonEl =\n",
              "          document.querySelector('#df-9ec936dd-1e70-4508-a666-71ee0c8f8e4e button.colab-df-convert');\n",
              "        buttonEl.style.display =\n",
              "          google.colab.kernel.accessAllowed ? 'block' : 'none';\n",
              "\n",
              "        async function convertToInteractive(key) {\n",
              "          const element = document.querySelector('#df-9ec936dd-1e70-4508-a666-71ee0c8f8e4e');\n",
              "          const dataTable =\n",
              "            await google.colab.kernel.invokeFunction('convertToInteractive',\n",
              "                                                     [key], {});\n",
              "          if (!dataTable) return;\n",
              "\n",
              "          const docLinkHtml = 'Like what you see? Visit the ' +\n",
              "            '<a target=\"_blank\" href=https://colab.research.google.com/notebooks/data_table.ipynb>data table notebook</a>'\n",
              "            + ' to learn more about interactive tables.';\n",
              "          element.innerHTML = '';\n",
              "          dataTable['output_type'] = 'display_data';\n",
              "          await google.colab.output.renderOutput(dataTable, element);\n",
              "          const docLink = document.createElement('div');\n",
              "          docLink.innerHTML = docLinkHtml;\n",
              "          element.appendChild(docLink);\n",
              "        }\n",
              "      </script>\n",
              "    </div>\n",
              "  </div>\n",
              "  "
            ]
          },
          "metadata": {},
          "execution_count": 21
        }
      ],
      "source": [
        "def calc_vif(X):\n",
        "  # Calculating VIF\n",
        "  vif = pd.DataFrame()\n",
        "  vif[\"variables\"] = X.columns\n",
        "  vif[\"VIF\"] = [variance_inflation_factor(X.values, i)\n",
        "  for i in range(X.shape[1])]\n",
        "  return(vif)\n",
        "df2 = df[[ 'LAST_TYP_CLI_FID', 'LAST_STATUS_FID', 'FIRST_ID_NEG', 'NUM_FIDs', 'W_PHONE', 'TYP_CLI_ACCOUNT' ]]\n",
        "calc_vif(df2)"
      ]
    },
    {
      "cell_type": "markdown",
      "source": [
        "Si prova ad eliminare una delle caratteristiche correlate per vedere se aiuta a ridurre la multicollinearità tra le caratteristiche correlate:"
      ],
      "metadata": {
        "id": "eRvnuDUEKdGq"
      }
    },
    {
      "cell_type": "code",
      "source": [
        "df.drop(['LAST_STATUS_FID'], axis=1, inplace = True)\n",
        "df.drop(['NUM_FIDs'], axis=1, inplace = True)\n",
        "df.drop(['LAST_TYP_CLI_FID'], axis=1, inplace = True)\n",
        "def calc_vif(X):\n",
        "  # Calculating VIF\n",
        "  vif = pd.DataFrame()\n",
        "  vif[\"variables\"] = X.columns\n",
        "  vif[\"VIF\"] = [variance_inflation_factor(X.values, i)\n",
        "  for i in range(X.shape[1])]\n",
        "  return(vif)\n",
        "df2 = df[['FIRST_ID_NEG', 'W_PHONE', 'TYP_CLI_ACCOUNT' ]]\n",
        "calc_vif(df2)"
      ],
      "metadata": {
        "colab": {
          "base_uri": "https://localhost:8080/",
          "height": 143
        },
        "id": "1bc0q_YiKlU8",
        "outputId": "2bd96199-1cf6-4f56-8cd8-7852a3c7cb7d"
      },
      "execution_count": null,
      "outputs": [
        {
          "output_type": "execute_result",
          "data": {
            "text/plain": [
              "         variables       VIF\n",
              "0     FIRST_ID_NEG  3.237202\n",
              "1          W_PHONE  7.896613\n",
              "2  TYP_CLI_ACCOUNT  9.055614"
            ],
            "text/html": [
              "\n",
              "  <div id=\"df-ae4cc4f8-2186-43f7-9ea8-96acc85e08bb\">\n",
              "    <div class=\"colab-df-container\">\n",
              "      <div>\n",
              "<style scoped>\n",
              "    .dataframe tbody tr th:only-of-type {\n",
              "        vertical-align: middle;\n",
              "    }\n",
              "\n",
              "    .dataframe tbody tr th {\n",
              "        vertical-align: top;\n",
              "    }\n",
              "\n",
              "    .dataframe thead th {\n",
              "        text-align: right;\n",
              "    }\n",
              "</style>\n",
              "<table border=\"1\" class=\"dataframe\">\n",
              "  <thead>\n",
              "    <tr style=\"text-align: right;\">\n",
              "      <th></th>\n",
              "      <th>variables</th>\n",
              "      <th>VIF</th>\n",
              "    </tr>\n",
              "  </thead>\n",
              "  <tbody>\n",
              "    <tr>\n",
              "      <th>0</th>\n",
              "      <td>FIRST_ID_NEG</td>\n",
              "      <td>3.237202</td>\n",
              "    </tr>\n",
              "    <tr>\n",
              "      <th>1</th>\n",
              "      <td>W_PHONE</td>\n",
              "      <td>7.896613</td>\n",
              "    </tr>\n",
              "    <tr>\n",
              "      <th>2</th>\n",
              "      <td>TYP_CLI_ACCOUNT</td>\n",
              "      <td>9.055614</td>\n",
              "    </tr>\n",
              "  </tbody>\n",
              "</table>\n",
              "</div>\n",
              "      <button class=\"colab-df-convert\" onclick=\"convertToInteractive('df-ae4cc4f8-2186-43f7-9ea8-96acc85e08bb')\"\n",
              "              title=\"Convert this dataframe to an interactive table.\"\n",
              "              style=\"display:none;\">\n",
              "        \n",
              "  <svg xmlns=\"http://www.w3.org/2000/svg\" height=\"24px\"viewBox=\"0 0 24 24\"\n",
              "       width=\"24px\">\n",
              "    <path d=\"M0 0h24v24H0V0z\" fill=\"none\"/>\n",
              "    <path d=\"M18.56 5.44l.94 2.06.94-2.06 2.06-.94-2.06-.94-.94-2.06-.94 2.06-2.06.94zm-11 1L8.5 8.5l.94-2.06 2.06-.94-2.06-.94L8.5 2.5l-.94 2.06-2.06.94zm10 10l.94 2.06.94-2.06 2.06-.94-2.06-.94-.94-2.06-.94 2.06-2.06.94z\"/><path d=\"M17.41 7.96l-1.37-1.37c-.4-.4-.92-.59-1.43-.59-.52 0-1.04.2-1.43.59L10.3 9.45l-7.72 7.72c-.78.78-.78 2.05 0 2.83L4 21.41c.39.39.9.59 1.41.59.51 0 1.02-.2 1.41-.59l7.78-7.78 2.81-2.81c.8-.78.8-2.07 0-2.86zM5.41 20L4 18.59l7.72-7.72 1.47 1.35L5.41 20z\"/>\n",
              "  </svg>\n",
              "      </button>\n",
              "      \n",
              "  <style>\n",
              "    .colab-df-container {\n",
              "      display:flex;\n",
              "      flex-wrap:wrap;\n",
              "      gap: 12px;\n",
              "    }\n",
              "\n",
              "    .colab-df-convert {\n",
              "      background-color: #E8F0FE;\n",
              "      border: none;\n",
              "      border-radius: 50%;\n",
              "      cursor: pointer;\n",
              "      display: none;\n",
              "      fill: #1967D2;\n",
              "      height: 32px;\n",
              "      padding: 0 0 0 0;\n",
              "      width: 32px;\n",
              "    }\n",
              "\n",
              "    .colab-df-convert:hover {\n",
              "      background-color: #E2EBFA;\n",
              "      box-shadow: 0px 1px 2px rgba(60, 64, 67, 0.3), 0px 1px 3px 1px rgba(60, 64, 67, 0.15);\n",
              "      fill: #174EA6;\n",
              "    }\n",
              "\n",
              "    [theme=dark] .colab-df-convert {\n",
              "      background-color: #3B4455;\n",
              "      fill: #D2E3FC;\n",
              "    }\n",
              "\n",
              "    [theme=dark] .colab-df-convert:hover {\n",
              "      background-color: #434B5C;\n",
              "      box-shadow: 0px 1px 3px 1px rgba(0, 0, 0, 0.15);\n",
              "      filter: drop-shadow(0px 1px 2px rgba(0, 0, 0, 0.3));\n",
              "      fill: #FFFFFF;\n",
              "    }\n",
              "  </style>\n",
              "\n",
              "      <script>\n",
              "        const buttonEl =\n",
              "          document.querySelector('#df-ae4cc4f8-2186-43f7-9ea8-96acc85e08bb button.colab-df-convert');\n",
              "        buttonEl.style.display =\n",
              "          google.colab.kernel.accessAllowed ? 'block' : 'none';\n",
              "\n",
              "        async function convertToInteractive(key) {\n",
              "          const element = document.querySelector('#df-ae4cc4f8-2186-43f7-9ea8-96acc85e08bb');\n",
              "          const dataTable =\n",
              "            await google.colab.kernel.invokeFunction('convertToInteractive',\n",
              "                                                     [key], {});\n",
              "          if (!dataTable) return;\n",
              "\n",
              "          const docLinkHtml = 'Like what you see? Visit the ' +\n",
              "            '<a target=\"_blank\" href=https://colab.research.google.com/notebooks/data_table.ipynb>data table notebook</a>'\n",
              "            + ' to learn more about interactive tables.';\n",
              "          element.innerHTML = '';\n",
              "          dataTable['output_type'] = 'display_data';\n",
              "          await google.colab.output.renderOutput(dataTable, element);\n",
              "          const docLink = document.createElement('div');\n",
              "          docLink.innerHTML = docLinkHtml;\n",
              "          element.appendChild(docLink);\n",
              "        }\n",
              "      </script>\n",
              "    </div>\n",
              "  </div>\n",
              "  "
            ]
          },
          "metadata": {},
          "execution_count": 22
        }
      ]
    },
    {
      "cell_type": "code",
      "execution_count": null,
      "metadata": {
        "colab": {
          "base_uri": "https://localhost:8080/"
        },
        "id": "ujb3AtT08g0N",
        "outputId": "0bf1e0ad-30a6-4d5c-9940-ad644ce45e46"
      },
      "outputs": [
        {
          "output_type": "stream",
          "name": "stdout",
          "text": [
            "(211608, 11)\n"
          ]
        }
      ],
      "source": [
        "df.drop_duplicates('ID_CLI', inplace = True)\n",
        "print(df.shape)"
      ]
    },
    {
      "cell_type": "code",
      "execution_count": null,
      "metadata": {
        "id": "t7v3jInA7gfT"
      },
      "outputs": [],
      "source": [
        "## Convert rest of categorical variable in dummy variable:\n",
        "lcf = pd.get_dummies(df['LAST_COD_FID']).iloc[:,1:]\n",
        "ldta = pd.get_dummies(df['LAST_DT_ACTIVE']).iloc[:,1:]\n",
        "fdta = pd.get_dummies(df['FIRST_DT_ACTIVE']).iloc[:,1:]\n",
        "ep = pd.get_dummies(df['EMAIL_PROVIDER']).iloc[:,1:]\n",
        "tj = pd.get_dummies(df['TYP_JOB']).iloc[:,1:]\n",
        "\n",
        "df.drop(['LAST_COD_FID', 'LAST_DT_ACTIVE', 'FIRST_DT_ACTIVE', 'EMAIL_PROVIDER', 'TYP_JOB'], axis=1, inplace = True)\n",
        "\n",
        "df = pd.concat([df, lcf, ep, tj], axis=1)"
      ]
    },
    {
      "cell_type": "markdown",
      "metadata": {
        "id": "wGGl9TkTRolB"
      },
      "source": [
        "Generazione di set di dati di addestramento e test: disaccoppiamo il set di dati master in set di addestramento e test con un rapporto dell'80%-20%."
      ]
    },
    {
      "cell_type": "code",
      "execution_count": null,
      "metadata": {
        "colab": {
          "base_uri": "https://localhost:8080/"
        },
        "id": "hq_v2nuJ8D9a",
        "outputId": "0d047041-d96c-4003-eca8-aae8d28ea677"
      },
      "outputs": [
        {
          "output_type": "stream",
          "name": "stdout",
          "text": [
            "Number transactions X_train dataset:  (21160, 42)\n",
            "Number transactions y_train dataset:  (21160,)\n",
            "Number transactions X_test dataset:  (190448, 42)\n",
            "Number transactions y_test dataset:  (190448,)\n"
          ]
        }
      ],
      "source": [
        "#Identify response variable:\n",
        "    \n",
        "response = df[\"CHURN\"]\n",
        "dataset = df.drop(columns=\"CHURN\")\n",
        "\n",
        "X_train, X_test, y_train, y_test = train_test_split(dataset, response, stratify=response, test_size = 0.9)\n",
        "#to resolve any class imbalance - use stratify parameter.\n",
        "print(\"Number transactions X_train dataset: \", X_train.shape)\n",
        "print(\"Number transactions y_train dataset: \", y_train.shape)\n",
        "print(\"Number transactions X_test dataset: \", X_test.shape)\n",
        "print(\"Number transactions y_test dataset: \", y_test.shape)"
      ]
    },
    {
      "cell_type": "markdown",
      "metadata": {
        "id": "dGjAmJV6Ri6k"
      },
      "source": [
        "Rimuovere gli identificatori: separare \"ID_CLI\" dai frame di dati di addestramento e test."
      ]
    },
    {
      "cell_type": "code",
      "execution_count": null,
      "metadata": {
        "id": "eVBT9sY28Fsy"
      },
      "outputs": [],
      "source": [
        "train_identity = X_train['ID_CLI']\n",
        "X_train = X_train.drop(columns = ['ID_CLI'])\n",
        "test_identity = X_test['ID_CLI']\n",
        "X_test = X_test.drop(columns = ['ID_CLI'])"
      ]
    },
    {
      "cell_type": "markdown",
      "metadata": {
        "id": "NgmBk103Rd8y"
      },
      "source": [
        "**Ridimensionamento delle funzionalità.**\n",
        "È importante normalizzare le variabili prima di eseguire qualsiasi algoritmo di apprendimento automatico (classificazione) in modo che tutte le variabili di addestramento e test vengano ridimensionate in un intervallo da 0 a 1."
      ]
    },
    {
      "cell_type": "code",
      "execution_count": null,
      "metadata": {
        "id": "dLa7fu7enUHl"
      },
      "outputs": [],
      "source": [
        "sc_X = StandardScaler()\n",
        "X_train2 = pd.DataFrame(sc_X.fit_transform(X_train))\n",
        "X_train2.columns = X_train.columns.values\n",
        "X_train2.index = X_train.index.values\n",
        "X_train = X_train2\n",
        "X_test2 = pd.DataFrame(sc_X.transform(X_test))\n",
        "X_test2.columns = X_test.columns.values\n",
        "X_test2.index = X_test.index.values\n",
        "X_test = X_test2"
      ]
    },
    {
      "cell_type": "markdown",
      "metadata": {
        "id": "jh9HEus_mOQM"
      },
      "source": [
        "L'accuracy della classificazione è una delle metriche di valutazione della classificazione più comuni per confrontare gli algoritmi di base in quanto rappresenta il numero di previsioni corrette effettuate come rapporto delle previsioni totali. Tuttavia, non è la metrica ideale quando vi sono problemi di sbilanciamento di classe. Quindi, si ordinano i risultati in base al valore **Mean AUC** che non è altro che la capacità del modello di discriminare tra classi positive e negative."
      ]
    },
    {
      "cell_type": "code",
      "execution_count": null,
      "metadata": {
        "colab": {
          "base_uri": "https://localhost:8080/",
          "height": 394
        },
        "id": "h9HmPOD_8MdF",
        "outputId": "bada040a-b8b2-4b17-bf35-9d6856b095a8"
      },
      "outputs": [
        {
          "output_type": "stream",
          "name": "stdout",
          "text": [
            "1 Logistic Regression 5.341472864151001\n",
            "2 SVC 600.0664949417114\n",
            "3 Kernel SVM 761.4880650043488\n",
            "4 KNN 18.57797598838806\n",
            "5 Gaussian NB 0.5823359489440918\n",
            "6 Decision Tree Classifier 4.932557106018066\n",
            "7 Random Forest 86.1184151172638\n"
          ]
        },
        {
          "output_type": "execute_result",
          "data": {
            "text/plain": [
              "                  Algorithm  ROC AUC Mean  ROC AUC STD  Accuracy Mean  \\\n",
              "2                Kernel SVM         69.76         1.74          70.72   \n",
              "6             Random Forest         68.34         0.80          65.45   \n",
              "3                       KNN         67.13         0.82          66.78   \n",
              "0       Logistic Regression         66.08         1.60          61.17   \n",
              "1                       SVC         65.78         1.60          68.96   \n",
              "4               Gaussian NB         64.19         1.73          60.33   \n",
              "5  Decision Tree Classifier         61.80         0.60          63.36   \n",
              "\n",
              "   Accuracy STD  \n",
              "2          1.41  \n",
              "6          0.75  \n",
              "3          0.54  \n",
              "0          1.43  \n",
              "1          1.54  \n",
              "4          0.97  \n",
              "5          0.67  "
            ],
            "text/html": [
              "\n",
              "  <div id=\"df-2f7a0e1b-ef6d-4504-be91-e1cc6afca99e\">\n",
              "    <div class=\"colab-df-container\">\n",
              "      <div>\n",
              "<style scoped>\n",
              "    .dataframe tbody tr th:only-of-type {\n",
              "        vertical-align: middle;\n",
              "    }\n",
              "\n",
              "    .dataframe tbody tr th {\n",
              "        vertical-align: top;\n",
              "    }\n",
              "\n",
              "    .dataframe thead th {\n",
              "        text-align: right;\n",
              "    }\n",
              "</style>\n",
              "<table border=\"1\" class=\"dataframe\">\n",
              "  <thead>\n",
              "    <tr style=\"text-align: right;\">\n",
              "      <th></th>\n",
              "      <th>Algorithm</th>\n",
              "      <th>ROC AUC Mean</th>\n",
              "      <th>ROC AUC STD</th>\n",
              "      <th>Accuracy Mean</th>\n",
              "      <th>Accuracy STD</th>\n",
              "    </tr>\n",
              "  </thead>\n",
              "  <tbody>\n",
              "    <tr>\n",
              "      <th>2</th>\n",
              "      <td>Kernel SVM</td>\n",
              "      <td>69.76</td>\n",
              "      <td>1.74</td>\n",
              "      <td>70.72</td>\n",
              "      <td>1.41</td>\n",
              "    </tr>\n",
              "    <tr>\n",
              "      <th>6</th>\n",
              "      <td>Random Forest</td>\n",
              "      <td>68.34</td>\n",
              "      <td>0.80</td>\n",
              "      <td>65.45</td>\n",
              "      <td>0.75</td>\n",
              "    </tr>\n",
              "    <tr>\n",
              "      <th>3</th>\n",
              "      <td>KNN</td>\n",
              "      <td>67.13</td>\n",
              "      <td>0.82</td>\n",
              "      <td>66.78</td>\n",
              "      <td>0.54</td>\n",
              "    </tr>\n",
              "    <tr>\n",
              "      <th>0</th>\n",
              "      <td>Logistic Regression</td>\n",
              "      <td>66.08</td>\n",
              "      <td>1.60</td>\n",
              "      <td>61.17</td>\n",
              "      <td>1.43</td>\n",
              "    </tr>\n",
              "    <tr>\n",
              "      <th>1</th>\n",
              "      <td>SVC</td>\n",
              "      <td>65.78</td>\n",
              "      <td>1.60</td>\n",
              "      <td>68.96</td>\n",
              "      <td>1.54</td>\n",
              "    </tr>\n",
              "    <tr>\n",
              "      <th>4</th>\n",
              "      <td>Gaussian NB</td>\n",
              "      <td>64.19</td>\n",
              "      <td>1.73</td>\n",
              "      <td>60.33</td>\n",
              "      <td>0.97</td>\n",
              "    </tr>\n",
              "    <tr>\n",
              "      <th>5</th>\n",
              "      <td>Decision Tree Classifier</td>\n",
              "      <td>61.80</td>\n",
              "      <td>0.60</td>\n",
              "      <td>63.36</td>\n",
              "      <td>0.67</td>\n",
              "    </tr>\n",
              "  </tbody>\n",
              "</table>\n",
              "</div>\n",
              "      <button class=\"colab-df-convert\" onclick=\"convertToInteractive('df-2f7a0e1b-ef6d-4504-be91-e1cc6afca99e')\"\n",
              "              title=\"Convert this dataframe to an interactive table.\"\n",
              "              style=\"display:none;\">\n",
              "        \n",
              "  <svg xmlns=\"http://www.w3.org/2000/svg\" height=\"24px\"viewBox=\"0 0 24 24\"\n",
              "       width=\"24px\">\n",
              "    <path d=\"M0 0h24v24H0V0z\" fill=\"none\"/>\n",
              "    <path d=\"M18.56 5.44l.94 2.06.94-2.06 2.06-.94-2.06-.94-.94-2.06-.94 2.06-2.06.94zm-11 1L8.5 8.5l.94-2.06 2.06-.94-2.06-.94L8.5 2.5l-.94 2.06-2.06.94zm10 10l.94 2.06.94-2.06 2.06-.94-2.06-.94-.94-2.06-.94 2.06-2.06.94z\"/><path d=\"M17.41 7.96l-1.37-1.37c-.4-.4-.92-.59-1.43-.59-.52 0-1.04.2-1.43.59L10.3 9.45l-7.72 7.72c-.78.78-.78 2.05 0 2.83L4 21.41c.39.39.9.59 1.41.59.51 0 1.02-.2 1.41-.59l7.78-7.78 2.81-2.81c.8-.78.8-2.07 0-2.86zM5.41 20L4 18.59l7.72-7.72 1.47 1.35L5.41 20z\"/>\n",
              "  </svg>\n",
              "      </button>\n",
              "      \n",
              "  <style>\n",
              "    .colab-df-container {\n",
              "      display:flex;\n",
              "      flex-wrap:wrap;\n",
              "      gap: 12px;\n",
              "    }\n",
              "\n",
              "    .colab-df-convert {\n",
              "      background-color: #E8F0FE;\n",
              "      border: none;\n",
              "      border-radius: 50%;\n",
              "      cursor: pointer;\n",
              "      display: none;\n",
              "      fill: #1967D2;\n",
              "      height: 32px;\n",
              "      padding: 0 0 0 0;\n",
              "      width: 32px;\n",
              "    }\n",
              "\n",
              "    .colab-df-convert:hover {\n",
              "      background-color: #E2EBFA;\n",
              "      box-shadow: 0px 1px 2px rgba(60, 64, 67, 0.3), 0px 1px 3px 1px rgba(60, 64, 67, 0.15);\n",
              "      fill: #174EA6;\n",
              "    }\n",
              "\n",
              "    [theme=dark] .colab-df-convert {\n",
              "      background-color: #3B4455;\n",
              "      fill: #D2E3FC;\n",
              "    }\n",
              "\n",
              "    [theme=dark] .colab-df-convert:hover {\n",
              "      background-color: #434B5C;\n",
              "      box-shadow: 0px 1px 3px 1px rgba(0, 0, 0, 0.15);\n",
              "      filter: drop-shadow(0px 1px 2px rgba(0, 0, 0, 0.3));\n",
              "      fill: #FFFFFF;\n",
              "    }\n",
              "  </style>\n",
              "\n",
              "      <script>\n",
              "        const buttonEl =\n",
              "          document.querySelector('#df-2f7a0e1b-ef6d-4504-be91-e1cc6afca99e button.colab-df-convert');\n",
              "        buttonEl.style.display =\n",
              "          google.colab.kernel.accessAllowed ? 'block' : 'none';\n",
              "\n",
              "        async function convertToInteractive(key) {\n",
              "          const element = document.querySelector('#df-2f7a0e1b-ef6d-4504-be91-e1cc6afca99e');\n",
              "          const dataTable =\n",
              "            await google.colab.kernel.invokeFunction('convertToInteractive',\n",
              "                                                     [key], {});\n",
              "          if (!dataTable) return;\n",
              "\n",
              "          const docLinkHtml = 'Like what you see? Visit the ' +\n",
              "            '<a target=\"_blank\" href=https://colab.research.google.com/notebooks/data_table.ipynb>data table notebook</a>'\n",
              "            + ' to learn more about interactive tables.';\n",
              "          element.innerHTML = '';\n",
              "          dataTable['output_type'] = 'display_data';\n",
              "          await google.colab.output.renderOutput(dataTable, element);\n",
              "          const docLink = document.createElement('div');\n",
              "          docLink.innerHTML = docLinkHtml;\n",
              "          element.appendChild(docLink);\n",
              "        }\n",
              "      </script>\n",
              "    </div>\n",
              "  </div>\n",
              "  "
            ]
          },
          "metadata": {},
          "execution_count": 28
        }
      ],
      "source": [
        "models = []\n",
        "models.append(('Logistic Regression', LogisticRegression(solver='liblinear', random_state = 0,\n",
        "                                                         class_weight='balanced')))\n",
        "models.append(('SVC', SVC(kernel = 'linear', random_state = 0)))\n",
        "models.append(('Kernel SVM', SVC(kernel = 'rbf', random_state = 0)))\n",
        "models.append(('KNN', KNeighborsClassifier(n_neighbors = 5, metric = 'minkowski', p = 2)))\n",
        "models.append(('Gaussian NB', GaussianNB()))\n",
        "models.append(('Decision Tree Classifier',\n",
        "               DecisionTreeClassifier(criterion = 'entropy', random_state = 0)))\n",
        "models.append(('Random Forest', RandomForestClassifier(\n",
        "    n_estimators=100, criterion = 'entropy', random_state = 0)))\n",
        "#Evaluating Model Results:\n",
        "acc_results = []\n",
        "auc_results = []\n",
        "names = []\n",
        "# set table to table to populate with performance results\n",
        "col = ['Algorithm', 'ROC AUC Mean', 'ROC AUC STD', \n",
        "       'Accuracy Mean', 'Accuracy STD']\n",
        "model_results = pd.DataFrame(columns=col)\n",
        "i = 0\n",
        "# Evaluate each model using k-fold cross-validation:\n",
        "for name, model in models:\n",
        "    kfold = model_selection.KFold(\n",
        "        n_splits=10, random_state=None)\n",
        "    start = datetime.now().timestamp()\n",
        "    # accuracy scoring:\n",
        "    cv_acc_results = model_selection.cross_val_score(  \n",
        "    model, X_train, y_train, cv=kfold, scoring='accuracy')\n",
        "    # roc_auc scoring:\n",
        "    cv_auc_results = model_selection.cross_val_score(  \n",
        "    model, X_train, y_train, cv=kfold, scoring='roc_auc')\n",
        "    acc_results.append(cv_acc_results)\n",
        "    auc_results.append(cv_auc_results)\n",
        "    names.append(name)\n",
        "    model_results.loc[i] = [name,\n",
        "                        round(cv_auc_results.mean()*100, 2),\n",
        "                        round(cv_auc_results.std()*100, 2),\n",
        "                        round(cv_acc_results.mean()*100, 2),\n",
        "                        round(cv_acc_results.std()*100, 2)\n",
        "                        ]\n",
        "    i += 1\n",
        "    end = datetime.now().timestamp()\n",
        "    print(i, name, (end-start))\n",
        "        \n",
        "model_results.sort_values(by=['ROC AUC Mean'], ascending=False)"
      ]
    },
    {
      "cell_type": "code",
      "execution_count": null,
      "metadata": {
        "colab": {
          "base_uri": "https://localhost:8080/",
          "height": 527
        },
        "id": "3s2LqPKpYfI1",
        "outputId": "d8faf143-0dc3-4e56-9a37-a3338f58aec3"
      },
      "outputs": [
        {
          "output_type": "display_data",
          "data": {
            "text/plain": [
              "<Figure size 1080x504 with 1 Axes>"
            ],
            "image/png": "[encoded data removed]"
          },
          "metadata": {}
        }
      ],
      "source": [
        "#Visualizzare i confronti di precisione degli algoritmi di classificazione\n",
        "fig = plt.figure(figsize=(15, 7)) \n",
        "ax = fig.add_subplot(111) \n",
        "plt.boxplot(acc_results) \n",
        "ax.set_xticklabels(names)\n",
        "plt.ylabel('ROC AUC Score\\n', horizontalalignment=\"center\",fontstyle = \"normal\", fontsize = \"large\", fontfamily = \"sans-serif\")\n",
        "plt.xlabel('\\n Algoritmi di classificazione di base\\n', horizontalalignment=\"center\",fontstyle = \"normal\", fontsize = \"large\", fontfamily = \"sans-serif\")\n",
        "plt.title('Accuracy Score Comparison \\n', horizontalalignment=\"center\", fontstyle = \"normal\", fontsize = \"22\", fontfamily = \"sans-serif\")\n",
        "#plt.legend(loc='in alto a destra', fontsize = \"medium\") \n",
        "plt.xticks(rotation=0, horizontalalignment=\"center\") \n",
        "plt.yticks(rotation=0, horizontalalignment=\"right\")\n",
        "plt.show()"
      ]
    },
    {
      "cell_type": "markdown",
      "metadata": {
        "id": "y67B2ZbJxXqG"
      },
      "source": [
        "Utilizzo dell'area sotto la curva ROC: dalla prima iterazione degli algoritmi di classificazione di base, possiamo vedere che la SVM hanno sovraperformato gli altri cinque modelli per il set di dati scelto con i punteggi AUC medi più alti. Riconfermiamo i nostri risultati nella seconda iterazione come mostrato nei passaggi successivi."
      ]
    },
    {
      "cell_type": "code",
      "execution_count": null,
      "metadata": {
        "colab": {
          "base_uri": "https://localhost:8080/",
          "height": 527
        },
        "id": "3CKcpd87YhuF",
        "outputId": "8a976acc-b51c-43bf-f808-14519eccc883"
      },
      "outputs": [
        {
          "output_type": "display_data",
          "data": {
            "text/plain": [
              "<Figure size 1080x504 with 1 Axes>"
            ],
            "image/png": "[encoded data removed]"
          },
          "metadata": {}
        }
      ],
      "source": [
        "fig = plt.figure(figsize=(15, 7)) \n",
        "ax = fig.add_subplot(111) \n",
        "plt.boxplot(auc_results) \n",
        "ax.set_xticklabels(names)\n",
        "plt.ylabel('ROC AUC Score\\n', horizontalalignment=\"center\",fontstyle = \"normal\", fontsize = \"large\", fontfamily = \"sans-serif\")\n",
        "plt.xlabel('\\n Algoritmi di classificazione di base\\n', horizontalalignment=\"center\",fontstyle = \"normal\", fontsize = \"large\", fontfamily = \"sans-serif\")\n",
        "plt.title('ROC AUC Comparison \\n',horizontalalignment=\"center\", fontstyle = \"normal\", fontsize = \"22\", fontfamily = \"sans-serif\")\n",
        "#plt.legend(loc='in alto a destra', fontsize = \"medio\") \n",
        "plt.xticks(rotation=0, horizontalalignment=\"center\") \n",
        "plt.yticks(rotation=0, horizontalalignment=\"right\")\n",
        "plt.show()"
      ]
    },
    {
      "cell_type": "markdown",
      "metadata": {
        "id": "v67U_VR-1Az0"
      },
      "source": [
        "Ottenere i parametri giusti per i modelli di base: prima di eseguire la seconda iterazione, si ottimizzano i parametri e si finalizzano le metriche di valutazione per la selezione del modello.\n",
        "\n",
        "Identificare il numero ottimale di K vicini per il modello KNN: nella prima iterazione, abbiamo assunto che K = 3, ma in realtà non sappiamo quale sia il valore K ottimale che fornisce la massima precisione per il set di dati di addestramento scelto. Pertanto, scriviamo un ciclo for che itera da 20 a 30 volte e dia l'accuratezza ad ogni iterazione in modo da calcolare il numero ottimale di K vicini per il modello KNN."
      ]
    },
    {
      "cell_type": "code",
      "execution_count": null,
      "metadata": {
        "colab": {
          "base_uri": "https://localhost:8080/",
          "height": 510
        },
        "id": "rKtmDmEMwRbW",
        "outputId": "436db2b5-ff28-41f2-c4df-1374824c06cd"
      },
      "outputs": [
        {
          "output_type": "display_data",
          "data": {
            "text/plain": [
              "<Figure size 1080x504 with 1 Axes>"
            ],
            "image/png": "[encoded data removed]"
          },
          "metadata": {}
        }
      ],
      "source": [
        "score_array = []\n",
        "for each in range(1,25):\n",
        "    knn_loop = KNeighborsClassifier(n_neighbors = each) \n",
        "#set K neighbor as 3\n",
        "    knn_loop.fit(X_train,y_train)\n",
        "    score_array.append(knn_loop.score(X_test,y_test))\n",
        "fig = plt.figure(figsize=(15, 7))\n",
        "plt.plot(range(1,25),score_array, color = '#ec838a')\n",
        "plt.ylabel('Range\\n',horizontalalignment=\"center\", fontstyle = \"normal\", fontsize = \"large\", fontfamily = \"sans-serif\")\n",
        "plt.xlabel('Score\\n',horizontalalignment=\"center\", fontstyle = \"normal\", fontsize = \"large\", fontfamily = \"sans-serif\")\n",
        "plt.title('Optimal Number of K Neighbors \\n', horizontalalignment=\"center\", fontstyle = \"normal\", fontsize = \"22\", fontfamily = \"sans-serif\")\n",
        "#plt.legend(loc='top right', fontsize = \"medium\")\n",
        "plt.xticks(rotation=0, horizontalalignment=\"center\")\n",
        "plt.yticks(rotation=0, horizontalalignment=\"right\")\n",
        "plt.show()"
      ]
    },
    {
      "cell_type": "markdown",
      "metadata": {
        "id": "IrUclKJf1hI3"
      },
      "source": [
        "Come possiamo vedere dalle iterazioni precedenti, se utilizziamo K = 23, otterremo il punteggio massimo del 70%."
      ]
    },
    {
      "cell_type": "markdown",
      "metadata": {
        "id": "nlenTFKU1iy4"
      },
      "source": [
        "Identificare il numero ottimale di alberi per il modello Random Forest: abbastanza simile alle iterazioni nel modello KNN, qui stiamo cercando di trovare il numero ottimale di alberi decisionali per comporre la migliore foresta casuale."
      ]
    },
    {
      "cell_type": "code",
      "execution_count": null,
      "metadata": {
        "colab": {
          "base_uri": "https://localhost:8080/",
          "height": 510
        },
        "id": "8ViXLsXP1cwQ",
        "outputId": "80323062-9fa6-4741-c8bc-453f428e8bb9"
      },
      "outputs": [
        {
          "output_type": "display_data",
          "data": {
            "text/plain": [
              "<Figure size 1080x504 with 1 Axes>"
            ],
            "image/png": "[encoded data removed]"
          },
          "metadata": {}
        }
      ],
      "source": [
        "score_array = []\n",
        "for each in range(1,100):\n",
        "    rf_loop = RandomForestClassifier(\n",
        "n_estimators = each, random_state = 1) \n",
        "    rf_loop.fit(X_train,y_train)\n",
        "    score_array.append(rf_loop.score(X_test,y_test))\n",
        " \n",
        "fig = plt.figure(figsize=(15, 7))\n",
        "plt.plot(range(1,100),score_array, color = '#ec838a')\n",
        "plt.ylabel('Range\\n',horizontalalignment=\"center\",\n",
        "fontstyle = \"normal\", fontsize = \"large\", \n",
        "fontfamily = \"sans-serif\")\n",
        "plt.xlabel('Score\\n',horizontalalignment=\"center\",\n",
        "fontstyle = \"normal\", fontsize = \"large\", \n",
        "fontfamily = \"sans-serif\")\n",
        "plt.title('Optimal Number of Trees for Random Forest Model \\n',horizontalalignment=\"center\", fontstyle = \"normal\", fontsize = \"22\", fontfamily = \"sans-serif\")\n",
        "#plt.legend(loc='top right', fontsize = \"medium\")\n",
        "plt.xticks(rotation=0, horizontalalignment=\"center\")\n",
        "plt.yticks(rotation=0, horizontalalignment=\"right\")\n",
        "plt.show()"
      ]
    },
    {
      "cell_type": "markdown",
      "metadata": {
        "id": "hY2Lh7Pu4o86"
      },
      "source": [
        "Confronta algoritmi di classificazione di base (2a iterazione):\n",
        "\n",
        "Nella seconda iterazione del confronto degli algoritmi di classificazione di base, utilizzeremo i parametri ottimizzati per i modelli KNN e Random Forest. Inoltre, sappiamo che i falsi negativi sono più costosi dei falsi positivi in ​​una churn e quindi utilizziamo i punteggi di precisione, richiamo e F2 come metrica ideale per la selezione del modello."
      ]
    },
    {
      "cell_type": "code",
      "execution_count": null,
      "metadata": {
        "id": "9B2Duf3F4tkM",
        "colab": {
          "base_uri": "https://localhost:8080/"
        },
        "outputId": "eca0bd17-22ea-4819-f696-e190d77799d2"
      },
      "outputs": [
        {
          "output_type": "stream",
          "name": "stdout",
          "text": [
            "                 Model  Accuracy  Precision    Recall  F1 Score  F2 Score\n",
            "0  Logistic Regression   0.69859    0.70424  0.865242  0.776483   0.82741\n"
          ]
        }
      ],
      "source": [
        "## Logistic Regression\n",
        "\n",
        "# Fitting Logistic Regression to the Training set\n",
        "classifier = LogisticRegression(random_state = 0)\n",
        "classifier.fit(X_train, y_train)\n",
        "# Predicting the Test set results\n",
        "y_pred = classifier.predict(X_test)\n",
        "#Evaluate results\n",
        "acc = accuracy_score(y_test, y_pred )\n",
        "prec = precision_score(y_test, y_pred )\n",
        "rec = recall_score(y_test, y_pred )\n",
        "f1 = f1_score(y_test, y_pred )\n",
        "f2 = fbeta_score(y_test, y_pred, beta=2.0)\n",
        "results = pd.DataFrame([['Logistic Regression', acc, prec, rec, f1, f2]], columns = ['Model', 'Accuracy', 'Precision', 'Recall', 'F1 Score', 'F2 Score'])\n",
        "results = results.sort_values([\"Precision\", \"Recall\", \"F2 Score\"], ascending = False)\n",
        "print (results)"
      ]
    },
    {
      "cell_type": "code",
      "execution_count": null,
      "metadata": {
        "id": "BhliPpIg5AGl",
        "colab": {
          "base_uri": "https://localhost:8080/"
        },
        "outputId": "d8cbd8fe-4c36-4ff6-8a68-d618e7168dea"
      },
      "outputs": [
        {
          "output_type": "stream",
          "name": "stdout",
          "text": [
            "                 Model  Accuracy  Precision    Recall  F1 Score  F2 Score\n",
            "0  Logistic Regression   0.69859    0.70424  0.865242  0.776483   0.82741\n",
            "1         SVM (Linear)   0.69859    0.70424  0.865242  0.776483   0.82741\n"
          ]
        }
      ],
      "source": [
        "## Support Vector Machine (linear classifier)\n",
        "\n",
        "# Fitting SVM (SVC class) to the Training set\n",
        "classifier = SVC(kernel = 'linear', random_state = 0)\n",
        "classifier.fit(X_train, y_train)\n",
        "# Predicting the Test set results y_pred = classifier.predict(X_test)\n",
        "#Evaluate results\n",
        "acc = accuracy_score(y_test, y_pred )\n",
        "prec = precision_score(y_test, y_pred )\n",
        "rec = recall_score(y_test, y_pred)\n",
        "f1 = f1_score(y_test, y_pred )\n",
        "f2 = fbeta_score(y_test, y_pred, beta=2.0)\n",
        "model_results = pd.DataFrame([['SVM (Linear)', acc, prec, rec, f1, f2]], columns = ['Model', 'Accuracy', 'Precision', 'Recall', 'F1 Score', 'F2 Score'])\n",
        "results = results.append(model_results, ignore_index = True)\n",
        "results = results.sort_values([\"Precision\", \"Recall\", \"F2 Score\"], ascending = False)\n",
        "print (results)"
      ]
    },
    {
      "cell_type": "code",
      "execution_count": null,
      "metadata": {
        "id": "XHHygSvW5Udx",
        "colab": {
          "base_uri": "https://localhost:8080/"
        },
        "outputId": "8a142c49-b0b5-4022-f3ed-5748c481f87b"
      },
      "outputs": [
        {
          "output_type": "stream",
          "name": "stdout",
          "text": [
            "                  Model  Accuracy  Precision    Recall  F1 Score  F2 Score\n",
            "0   Logistic Regression   0.69859    0.70424  0.865242  0.776483  0.827410\n",
            "1          SVM (Linear)   0.69859    0.70424  0.865242  0.776483  0.827410\n",
            "2  K-Nearest Neighbours   0.69524    0.69624  0.880463  0.777589  0.836211\n"
          ]
        }
      ],
      "source": [
        "## K-Nearest Neighbors\n",
        "\n",
        "# Fitting KNN to the Training set:\n",
        "classifier = KNeighborsClassifier(n_neighbors = 22, metric = 'minkowski', p = 2)\n",
        "classifier.fit(X_train, y_train)\n",
        "# Predicting the Test set results \n",
        "y_pred  = classifier.predict(X_test)\n",
        "#Evaluate results\n",
        "acc = accuracy_score(y_test, y_pred )\n",
        "prec = precision_score(y_test, y_pred )\n",
        "rec = recall_score(y_test, y_pred )\n",
        "f1 = f1_score(y_test, y_pred )\n",
        "f2 = fbeta_score(y_test, y_pred, beta=2.0)\n",
        "model_results = pd.DataFrame([['K-Nearest Neighbours', acc, prec, rec, f1, f2]], columns = ['Model', 'Accuracy', 'Precision', 'Recall', 'F1 Score', 'F2 Score'])\n",
        "results = results.append(model_results, ignore_index = True)\n",
        "results = results.sort_values([\"Precision\", \"Recall\", \"F2 Score\"], ascending = False)\n",
        "print (results)"
      ]
    },
    {
      "cell_type": "code",
      "execution_count": null,
      "metadata": {
        "id": "zp_YCaHW5aCB",
        "colab": {
          "base_uri": "https://localhost:8080/"
        },
        "outputId": "87993510-d2f6-49a4-cb74-37fcdf14f1ab"
      },
      "outputs": [
        {
          "output_type": "stream",
          "name": "stdout",
          "text": [
            "                  Model  Accuracy  Precision    Recall  F1 Score  F2 Score\n",
            "0   Logistic Regression  0.698590   0.704240  0.865242  0.776483  0.827410\n",
            "1          SVM (Linear)  0.698590   0.704240  0.865242  0.776483  0.827410\n",
            "2  K-Nearest Neighbours  0.695240   0.696240  0.880463  0.777589  0.836211\n",
            "3            Kernel SVM  0.705888   0.696042  0.912345  0.789649  0.858959\n"
          ]
        }
      ],
      "source": [
        "## Kernel SVM\n",
        "\n",
        "# Fitting Kernel SVM to the Training set:\n",
        "classifier = SVC(kernel = 'rbf', random_state = 0)\n",
        "classifier.fit(X_train, y_train)\n",
        "# Predicting the Test set results \n",
        "y_pred = classifier.predict(X_test)\n",
        "#Evaluate results\n",
        "acc = accuracy_score(y_test, y_pred )\n",
        "prec = precision_score(y_test, y_pred )\n",
        "rec = recall_score(y_test, y_pred )\n",
        "f1 = f1_score(y_test, y_pred )\n",
        "f2 = fbeta_score(y_test, y_pred, beta=2.0)\n",
        "model_results = pd.DataFrame([['Kernel SVM', acc, prec, rec, f1, f2]], columns = ['Model', 'Accuracy', 'Precision', 'Recall', 'F1 Score', 'F2 Score'])\n",
        "results = results.append(model_results, ignore_index = True)\n",
        "results = results.sort_values([\"Precision\", \"Recall\", \"F2 Score\"], ascending = False)\n",
        "print (results)"
      ]
    },
    {
      "cell_type": "code",
      "execution_count": null,
      "metadata": {
        "id": "1-1rfxnU5hqw",
        "colab": {
          "base_uri": "https://localhost:8080/"
        },
        "outputId": "c8d5f89c-0cae-495c-90d6-4744e7dbb2f8"
      },
      "outputs": [
        {
          "output_type": "stream",
          "name": "stdout",
          "text": [
            "                  Model  Accuracy  Precision    Recall  F1 Score  F2 Score\n",
            "0   Logistic Regression  0.698590   0.704240  0.865242  0.776483  0.827410\n",
            "1          SVM (Linear)  0.698590   0.704240  0.865242  0.776483  0.827410\n",
            "2  K-Nearest Neighbours  0.695240   0.696240  0.880463  0.777589  0.836211\n",
            "3            Kernel SVM  0.705888   0.696042  0.912345  0.789649  0.858959\n",
            "4            Naive Byes  0.603293   0.610665  0.950146  0.743486  0.855075\n"
          ]
        }
      ],
      "source": [
        "## Naive Byes\n",
        "\n",
        "# Fitting Naive Byes to the Training set:\n",
        "classifier = GaussianNB()\n",
        "classifier.fit(X_train, y_train)\n",
        "# Predicting the Test set results \n",
        "y_pred = classifier.predict(X_test)\n",
        "#Evaluate results\n",
        "acc = accuracy_score(y_test, y_pred )\n",
        "prec = precision_score(y_test, y_pred )\n",
        "rec = recall_score(y_test, y_pred )\n",
        "f1 = f1_score(y_test, y_pred )\n",
        "f2 = fbeta_score(y_test, y_pred, beta=2.0)\n",
        "model_results = pd.DataFrame([['Naive Byes', acc, prec, rec, f1, f2]], columns = ['Model', 'Accuracy', 'Precision', 'Recall', 'F1 Score', 'F2 Score'])\n",
        "results = results.append(model_results, ignore_index = True)\n",
        "results = results.sort_values([\"Precision\", \"Recall\", \"F2 Score\"], ascending = False)\n",
        "print (results)"
      ]
    },
    {
      "cell_type": "code",
      "execution_count": null,
      "metadata": {
        "id": "PZHOmpaP5oSz",
        "colab": {
          "base_uri": "https://localhost:8080/"
        },
        "outputId": "e5393007-afff-4cda-d1c7-cb83cc0e5c78"
      },
      "outputs": [
        {
          "output_type": "stream",
          "name": "stdout",
          "text": [
            "                  Model  Accuracy  Precision    Recall  F1 Score  F2 Score\n",
            "0   Logistic Regression  0.698590   0.704240  0.865242  0.776483  0.827410\n",
            "1          SVM (Linear)  0.698590   0.704240  0.865242  0.776483  0.827410\n",
            "2  K-Nearest Neighbours  0.695240   0.696240  0.880463  0.777589  0.836211\n",
            "3            Kernel SVM  0.705888   0.696042  0.912345  0.789649  0.858959\n",
            "5         Decision Tree  0.628234   0.693491  0.690999  0.692243  0.691496\n",
            "4            Naive Byes  0.603293   0.610665  0.950146  0.743486  0.855075\n"
          ]
        }
      ],
      "source": [
        "## Decision Tree\n",
        "\n",
        "# Fitting Decision Tree to the Training set:\n",
        "classifier = DecisionTreeClassifier(criterion = 'entropy', random_state = 0)\n",
        "classifier.fit(X_train, y_train)\n",
        "# Predicting the Test set results \n",
        "y_pred = classifier.predict(X_test)\n",
        "#Evaluate results\n",
        "acc = accuracy_score(y_test, y_pred )\n",
        "prec = precision_score(y_test, y_pred )\n",
        "rec = recall_score(y_test, y_pred )\n",
        "f1 = f1_score(y_test, y_pred )\n",
        "f2 = fbeta_score(y_test, y_pred, beta=2.0)\n",
        "model_results = pd.DataFrame([['Decision Tree', acc, prec, rec, f1, f2]], columns = ['Model', 'Accuracy', 'Precision', 'Recall', 'F1 Score', 'F2 Score'])\n",
        "results = results.append(model_results, ignore_index = True)\n",
        "results = results.sort_values([\"Precision\", \"Recall\", \"F2 Score\"], ascending = False)\n",
        "print (results)"
      ]
    },
    {
      "cell_type": "code",
      "execution_count": null,
      "metadata": {
        "colab": {
          "base_uri": "https://localhost:8080/"
        },
        "id": "qhdCtPze5vTp",
        "outputId": "e18d53cd-cbd0-403a-f5b7-f066321e78dd"
      },
      "outputs": [
        {
          "output_type": "stream",
          "name": "stdout",
          "text": [
            "                  Model  Accuracy  Precision    Recall  F1 Score  F2 Score\n",
            "0   Logistic Regression  0.698590   0.704240  0.865242  0.776483  0.827410\n",
            "1          SVM (Linear)  0.698590   0.704240  0.865242  0.776483  0.827410\n",
            "6         Random Forest  0.651884   0.698329  0.747657  0.722151  0.737242\n",
            "2  K-Nearest Neighbours  0.695240   0.696240  0.880463  0.777589  0.836211\n",
            "3            Kernel SVM  0.705888   0.696042  0.912345  0.789649  0.858959\n",
            "4         Decision Tree  0.628234   0.693491  0.690999  0.692243  0.691496\n",
            "5            Naive Byes  0.603293   0.610665  0.950146  0.743486  0.855075\n"
          ]
        }
      ],
      "source": [
        "## Random Forest\n",
        "\n",
        "# Fitting Random Forest to the Training set:\n",
        "    \n",
        "classifier = RandomForestClassifier(n_estimators = 72, \n",
        "criterion = 'entropy', random_state = 0)\n",
        "classifier.fit(X_train, y_train)\n",
        "# Predicting the Test set results \n",
        "y_pred = classifier.predict(X_test)\n",
        "#Evaluate results\n",
        "from sklearn.metrics import confusion_matrix, accuracy_score, f1_score, precision_score, recall_score\n",
        "acc = accuracy_score(y_test, y_pred )\n",
        "prec = precision_score(y_test, y_pred )\n",
        "rec = recall_score(y_test, y_pred )\n",
        "f1 = f1_score(y_test, y_pred )\n",
        "f2 = fbeta_score(y_test, y_pred, beta=2.0)\n",
        "model_results = pd.DataFrame([['Random Forest', acc, prec, rec, f1, f2]], columns = ['Model', 'Accuracy', 'Precision', 'Recall', 'F1 Score', 'F2 Score'])\n",
        "results = results.append(model_results, ignore_index = True)\n",
        "results = results.sort_values([\"Precision\", \"Recall\", \"F2 Score\"], ascending = False)\n",
        "print (results)"
      ]
    },
    {
      "cell_type": "markdown",
      "metadata": {
        "id": "PGUV6UG954d-"
      },
      "source": [
        "Dalla 2a iterazione, possiamo concludere definitivamente che la regressione logistica è un modello ottimale di scelta per il set di dati dato in quanto ha la combinazione relativamente più alta di precision, recall e F1 score; fornendo il maggior numero di previsioni positive corrette riducendo al minimo i falsi negativi. Quindi, proviamo a utilizzare la regressione logistica e ne valutiamo le prestazioni nelle prossime sezioni."
      ]
    },
    {
      "cell_type": "markdown",
      "metadata": {
        "id": "eNZi1PNeS8Vq"
      },
      "source": [
        "## Valutazione del modello\n",
        "\n",
        "Addestrare e valutare il modello scelto: adattiamo il modello selezionato (in questo caso la regressione logistica) al set di dati di addestramento e valutiamo i risultati."
      ]
    },
    {
      "cell_type": "code",
      "execution_count": null,
      "metadata": {
        "colab": {
          "base_uri": "https://localhost:8080/"
        },
        "id": "HCfWtkL9TEtb",
        "outputId": "f440078c-ed68-4be2-9558-7233b71f4833"
      },
      "outputs": [
        {
          "output_type": "stream",
          "name": "stdout",
          "text": [
            "                 Model  Accuracy  Precision    Recall  F1 Score  F2 Score\n",
            "0  Logistic Regression   0.69859    0.70424  0.865242  0.776483   0.82741\n"
          ]
        }
      ],
      "source": [
        "classifier = LogisticRegression(random_state = 0, penalty = 'l2')\n",
        "classifier.fit(X_train, y_train)\n",
        "# Predict the Test set results\n",
        "y_pred = classifier.predict(X_test)\n",
        "#Evaluate Model Results on Test Set:\n",
        "acc = accuracy_score(y_test, y_pred )\n",
        "prec = precision_score(y_test, y_pred )\n",
        "rec = recall_score(y_test, y_pred )\n",
        "f1 = f1_score(y_test, y_pred )\n",
        "f2 = fbeta_score(y_test, y_pred, beta=2.0)\n",
        "results = pd.DataFrame([['Logistic Regression', acc, prec, rec, f1, f2]], columns = ['Model', 'Accuracy', 'Precision', 'Recall', 'F1 Score', 'F2 Score'])\n",
        "print(results)"
      ]
    },
    {
      "cell_type": "markdown",
      "metadata": {
        "id": "KLJQAxJdTLMC"
      },
      "source": [
        "K-Fold Cross-Validation: la valutazione del modello viene più comunemente eseguita attraverso la tecnica \"K-fold Cross-Convalidation\" che aiuta principalmente a correggere la varianza. Il problema della varianza si verifica quando otteniamo una buona precisione durante l'esecuzione del modello su un set di addestramento e un set di test, ma l'accuratezza appare diversa quando il modello viene eseguito su un altro set di dati di test.\n",
        "\n",
        "Quindi, per risolvere il problema della varianza, la convalida incrociata k-fold ha sostanzialmente diviso il set di addestramento in 10 \"folds\" e addestra il modello su 9 \"folds\" (9 sottoinsiemi del set di dati di addestramento) prima di testarlo nel ripiegamento di prova. Questo permette di dare la flessibilità di addestrare il nostro modello su tutte e dieci le combinazioni di 9 \"folds\", dando ampio spazio per finalizzare la varianza."
      ]
    },
    {
      "cell_type": "code",
      "execution_count": null,
      "metadata": {
        "colab": {
          "base_uri": "https://localhost:8080/"
        },
        "id": "wcChErykTO-o",
        "outputId": "d006fcb9-f655-4798-8df1-e9043337e3c3"
      },
      "outputs": [
        {
          "output_type": "stream",
          "name": "stdout",
          "text": [
            "Logistic Regression Classifier Accuracy: 0.70 (+/- 0.02)\n"
          ]
        }
      ],
      "source": [
        "accuracies = cross_val_score(estimator = classifier, X = X_train, y = y_train, cv = 10)\n",
        "print(\"Logistic Regression Classifier Accuracy: %0.2f (+/- %0.2f)\"  % (accuracies.mean(), accuracies.std() * 2))"
      ]
    },
    {
      "cell_type": "markdown",
      "metadata": {
        "id": "8-_iQxXqTVrF"
      },
      "source": [
        "Pertanto, i risultati di convalida incrociata k-fold ottenuti indicano che avremmo un'accuratezza compresa tra il 68% e l'72% durante l'esecuzione di questo modello su qualsiasi set di test.\n",
        "\n",
        "Di seguito si visualizzano i risultati all'interno una matrice di confusione: tale matrice di confusione indica che abbiamo 98870 + 34037 previsioni corrette e 41175 + 16366 previsioni errate.\n",
        "\n",
        "Tasso di precisione = numero di previsioni corrette/pronostici totali * 100 = 132907 / 190448 * 100 = 69,79%\n",
        "\n",
        "Tasso di errore = numero di previsioni errate/pronostici totali * 100 = 57541 / 190448 * 100 = 30,21%\n",
        "\n",
        "Pertanto si ha una precisione del quasi 70%."
      ]
    },
    {
      "cell_type": "code",
      "execution_count": null,
      "metadata": {
        "colab": {
          "base_uri": "https://localhost:8080/",
          "height": 388
        },
        "id": "6DE9RnWaTYcK",
        "outputId": "96a6c104-6301-44db-e5c9-e7343a43b0f7"
      },
      "outputs": [
        {
          "output_type": "execute_result",
          "data": {
            "text/plain": [
              "Text(0.5, 12.5, 'Predicted label\\n')"
            ]
          },
          "metadata": {},
          "execution_count": 42
        },
        {
          "output_type": "display_data",
          "data": {
            "text/plain": [
              "<Figure size 2016x1440 with 0 Axes>"
            ]
          },
          "metadata": {}
        },
        {
          "output_type": "display_data",
          "data": {
            "text/plain": [
              "<Figure size 432x288 with 2 Axes>"
            ],
            "image/png": "[encoded data removed]"
          },
          "metadata": {}
        }
      ],
      "source": [
        "cm = confusion_matrix(y_test, y_pred) \n",
        "df_cm = pd.DataFrame(cm, index = (0, 1), columns = (0, 1))\n",
        "plt.figure(figsize = (28,20))\n",
        "fig, ax = plt.subplots()\n",
        "sn.set(font_scale=1.4)\n",
        "sn.heatmap(df_cm, annot=True, fmt='g')\n",
        "class_names=[0,1]\n",
        "tick_marks = np.arange(len(class_names))\n",
        "plt.tight_layout()\n",
        "plt.title('Confusion matrix\\n', y=1.1)\n",
        "plt.xticks(tick_marks, class_names)\n",
        "plt.yticks(tick_marks, class_names)\n",
        "ax.xaxis.set_label_position(\"top\")\n",
        "plt.ylabel('Actual label\\n')\n",
        "plt.xlabel('Predicted label\\n')"
      ]
    },
    {
      "cell_type": "markdown",
      "metadata": {
        "id": "ZJ111FbuTnYP"
      },
      "source": [
        "**Valutazione del modello usando il grafico ROC.**\n",
        "\n",
        "Si rivaluta il modello usando il grafico ROC. Il grafico ROC mostra la capacità di un modello di distinguere tra le classi in base al punteggio medio AUC. \n",
        "\n",
        "La linea arancione rappresenta la curva ROC di un classificatore casuale mentre un buon classificatore cerca di rimanere il più lontano possibile da quella linea. Come mostrato nel grafico seguente, il modello di regressione logistica perfezionato ha mostrato un punteggio AUC più elevato."
      ]
    },
    {
      "cell_type": "code",
      "execution_count": null,
      "metadata": {
        "colab": {
          "base_uri": "https://localhost:8080/",
          "height": 490
        },
        "id": "xgGtke2rTfeE",
        "outputId": "4520c5fd-3c20-430a-80d9-05fa5c18f07f"
      },
      "outputs": [
        {
          "output_type": "display_data",
          "data": {
            "text/plain": [
              "<Figure size 1008x432 with 1 Axes>"
            ],
            "image/png": "[encoded data removed]"
          },
          "metadata": {}
        }
      ],
      "source": [
        "classifier.fit(X_train, y_train) \n",
        "probs = classifier.predict_proba(X_test) \n",
        "probs = probs[:, 1] \n",
        "classifier_roc_auc = accuracy_score(y_test, y_pred )\n",
        "rf_fpr, rf_tpr, rf_thresholds = roc_curve(y_test, classifier.predict_proba(X_test)[:,1])\n",
        "plt.figure(figsize=(14, 6))\n",
        "# Plot Logistic Regression ROC\n",
        "plt.plot(rf_fpr, rf_tpr, \n",
        "label='Logistic Regression (area = %0.2f)' % classifier_roc_auc)\n",
        "# Plot Base Rate ROC\n",
        "plt.plot([0,1], [0,1],label='Base Rate' 'k--')\n",
        "plt.xlim([0.0, 1.0])\n",
        "plt.ylim([0.0, 1.05])\n",
        "plt.ylabel('True Positive Rate \\n',horizontalalignment=\"center\",\n",
        "fontstyle = \"normal\", fontsize = \"medium\", \n",
        "fontfamily = \"sans-serif\")\n",
        "plt.xlabel('\\nFalse Positive Rate \\n',horizontalalignment=\"center\",\n",
        "fontstyle = \"normal\", fontsize = \"medium\", \n",
        "fontfamily = \"sans-serif\")\n",
        "plt.title('ROC Graph \\n',horizontalalignment=\"center\", \n",
        "fontstyle = \"normal\", fontsize = \"22\", \n",
        "fontfamily = \"sans-serif\")\n",
        "plt.legend(loc=\"lower right\", fontsize = \"medium\")\n",
        "plt.xticks(rotation=0, horizontalalignment=\"center\")\n",
        "plt.yticks(rotation=0, horizontalalignment=\"right\")\n",
        "plt.show()"
      ]
    },
    {
      "cell_type": "markdown",
      "metadata": {
        "id": "govEl0aSTqPj"
      },
      "source": [
        "## Prevedere l'importanza delle caratteristiche\n",
        "La regressione logistica ci consente di determinare le caratteristiche chiave che hanno significato nella previsione dell'attributo target (\"Churn\").\n",
        "\n",
        "Il modello di regressione logistica prevede che il tasso di abbandono aumenterebbe positivamente con contratto standard, email account provider con gmail, libero, hotmail.\n",
        "\n",
        "D'altra parte, il modello prevede una correlazione negativa con l'abbandono se un cliente ha un programma fedeltà, lo store in cui ha acquistato oppure se è disoccupato."
      ]
    },
    {
      "cell_type": "code",
      "execution_count": null,
      "metadata": {
        "colab": {
          "base_uri": "https://localhost:8080/",
          "height": 1000
        },
        "id": "AVi7mzckTweO",
        "outputId": "9b97f2b2-dba2-46a9-9b43-04923546b28e"
      },
      "outputs": [
        {
          "output_type": "execute_result",
          "data": {
            "text/plain": [
              "                             features      coef\n",
              "10                          gmail.com  0.096499\n",
              "5                            STANDARD  0.064086\n",
              "11                           gmail.it  0.062440\n",
              "13                         hotmail.it  0.055449\n",
              "16                          libero.it  0.050728\n",
              "20                              other  0.043221\n",
              "26                           yahoo.it  0.040857\n",
              "7                            alice.it  0.033704\n",
              "12                        hotmail.com  0.029327\n",
              "18                            live.it  0.027784\n",
              "8                            email.it  0.026412\n",
              "14                         icloud.com  0.021502\n",
              "24                        virgilio.it  0.016737\n",
              "22                             tin.it  0.016493\n",
              "25                          yahoo.com  0.016414\n",
              "19                             me.com  0.012768\n",
              "23                         tiscali.it  0.012289\n",
              "17                           live.com  0.010241\n",
              "9                       fastwebnet.it  0.009593\n",
              "36                       Non Dichiara  0.009171\n",
              "15                          inwind.it  0.008510\n",
              "27                              Altro  0.008129\n",
              "21                         outlook.it  0.000486\n",
              "32                        Impiegato/a -0.003556\n",
              "37                          Operaio/a -0.005290\n",
              "34            In cerca di occupazione -0.006542\n",
              "40                           Studente -0.006703\n",
              "39  Rappresentante/Agente Commerciale -0.010568\n",
              "33                       Imprenditore -0.012568\n",
              "30             Commerciante/Esercente -0.021516\n",
              "31       Dirigente/Quadro/Funzionario -0.024433\n",
              "29                          Casalinga -0.033763\n",
              "38                       Pensionato/a -0.036326\n",
              "2                             W_PHONE -0.036598\n",
              "35              Libero professionista -0.042530\n",
              "28                          Artigiano -0.080773\n",
              "1                        FIRST_ID_NEG -0.118974\n",
              "6                        STANDARD BIZ -0.142843\n",
              "4                         PREMIUM BIZ -0.177025\n",
              "3                     TYP_CLI_ACCOUNT -0.251169\n",
              "0                              ID_FID -0.588655"
            ],
            "text/html": [
              "\n",
              "  <div id=\"df-85f990b0-d733-4dbb-9e9d-c9c646480dbe\">\n",
              "    <div class=\"colab-df-container\">\n",
              "      <div>\n",
              "<style scoped>\n",
              "    .dataframe tbody tr th:only-of-type {\n",
              "        vertical-align: middle;\n",
              "    }\n",
              "\n",
              "    .dataframe tbody tr th {\n",
              "        vertical-align: top;\n",
              "    }\n",
              "\n",
              "    .dataframe thead th {\n",
              "        text-align: right;\n",
              "    }\n",
              "</style>\n",
              "<table border=\"1\" class=\"dataframe\">\n",
              "  <thead>\n",
              "    <tr style=\"text-align: right;\">\n",
              "      <th></th>\n",
              "      <th>features</th>\n",
              "      <th>coef</th>\n",
              "    </tr>\n",
              "  </thead>\n",
              "  <tbody>\n",
              "    <tr>\n",
              "      <th>10</th>\n",
              "      <td>gmail.com</td>\n",
              "      <td>0.096499</td>\n",
              "    </tr>\n",
              "    <tr>\n",
              "      <th>5</th>\n",
              "      <td>STANDARD</td>\n",
              "      <td>0.064086</td>\n",
              "    </tr>\n",
              "    <tr>\n",
              "      <th>11</th>\n",
              "      <td>gmail.it</td>\n",
              "      <td>0.062440</td>\n",
              "    </tr>\n",
              "    <tr>\n",
              "      <th>13</th>\n",
              "      <td>hotmail.it</td>\n",
              "      <td>0.055449</td>\n",
              "    </tr>\n",
              "    <tr>\n",
              "      <th>16</th>\n",
              "      <td>libero.it</td>\n",
              "      <td>0.050728</td>\n",
              "    </tr>\n",
              "    <tr>\n",
              "      <th>20</th>\n",
              "      <td>other</td>\n",
              "      <td>0.043221</td>\n",
              "    </tr>\n",
              "    <tr>\n",
              "      <th>26</th>\n",
              "      <td>yahoo.it</td>\n",
              "      <td>0.040857</td>\n",
              "    </tr>\n",
              "    <tr>\n",
              "      <th>7</th>\n",
              "      <td>alice.it</td>\n",
              "      <td>0.033704</td>\n",
              "    </tr>\n",
              "    <tr>\n",
              "      <th>12</th>\n",
              "      <td>hotmail.com</td>\n",
              "      <td>0.029327</td>\n",
              "    </tr>\n",
              "    <tr>\n",
              "      <th>18</th>\n",
              "      <td>live.it</td>\n",
              "      <td>0.027784</td>\n",
              "    </tr>\n",
              "    <tr>\n",
              "      <th>8</th>\n",
              "      <td>email.it</td>\n",
              "      <td>0.026412</td>\n",
              "    </tr>\n",
              "    <tr>\n",
              "      <th>14</th>\n",
              "      <td>icloud.com</td>\n",
              "      <td>0.021502</td>\n",
              "    </tr>\n",
              "    <tr>\n",
              "      <th>24</th>\n",
              "      <td>virgilio.it</td>\n",
              "      <td>0.016737</td>\n",
              "    </tr>\n",
              "    <tr>\n",
              "      <th>22</th>\n",
              "      <td>tin.it</td>\n",
              "      <td>0.016493</td>\n",
              "    </tr>\n",
              "    <tr>\n",
              "      <th>25</th>\n",
              "      <td>yahoo.com</td>\n",
              "      <td>0.016414</td>\n",
              "    </tr>\n",
              "    <tr>\n",
              "      <th>19</th>\n",
              "      <td>me.com</td>\n",
              "      <td>0.012768</td>\n",
              "    </tr>\n",
              "    <tr>\n",
              "      <th>23</th>\n",
              "      <td>tiscali.it</td>\n",
              "      <td>0.012289</td>\n",
              "    </tr>\n",
              "    <tr>\n",
              "      <th>17</th>\n",
              "      <td>live.com</td>\n",
              "      <td>0.010241</td>\n",
              "    </tr>\n",
              "    <tr>\n",
              "      <th>9</th>\n",
              "      <td>fastwebnet.it</td>\n",
              "      <td>0.009593</td>\n",
              "    </tr>\n",
              "    <tr>\n",
              "      <th>36</th>\n",
              "      <td>Non Dichiara</td>\n",
              "      <td>0.009171</td>\n",
              "    </tr>\n",
              "    <tr>\n",
              "      <th>15</th>\n",
              "      <td>inwind.it</td>\n",
              "      <td>0.008510</td>\n",
              "    </tr>\n",
              "    <tr>\n",
              "      <th>27</th>\n",
              "      <td>Altro</td>\n",
              "      <td>0.008129</td>\n",
              "    </tr>\n",
              "    <tr>\n",
              "      <th>21</th>\n",
              "      <td>outlook.it</td>\n",
              "      <td>0.000486</td>\n",
              "    </tr>\n",
              "    <tr>\n",
              "      <th>32</th>\n",
              "      <td>Impiegato/a</td>\n",
              "      <td>-0.003556</td>\n",
              "    </tr>\n",
              "    <tr>\n",
              "      <th>37</th>\n",
              "      <td>Operaio/a</td>\n",
              "      <td>-0.005290</td>\n",
              "    </tr>\n",
              "    <tr>\n",
              "      <th>34</th>\n",
              "      <td>In cerca di occupazione</td>\n",
              "      <td>-0.006542</td>\n",
              "    </tr>\n",
              "    <tr>\n",
              "      <th>40</th>\n",
              "      <td>Studente</td>\n",
              "      <td>-0.006703</td>\n",
              "    </tr>\n",
              "    <tr>\n",
              "      <th>39</th>\n",
              "      <td>Rappresentante/Agente Commerciale</td>\n",
              "      <td>-0.010568</td>\n",
              "    </tr>\n",
              "    <tr>\n",
              "      <th>33</th>\n",
              "      <td>Imprenditore</td>\n",
              "      <td>-0.012568</td>\n",
              "    </tr>\n",
              "    <tr>\n",
              "      <th>30</th>\n",
              "      <td>Commerciante/Esercente</td>\n",
              "      <td>-0.021516</td>\n",
              "    </tr>\n",
              "    <tr>\n",
              "      <th>31</th>\n",
              "      <td>Dirigente/Quadro/Funzionario</td>\n",
              "      <td>-0.024433</td>\n",
              "    </tr>\n",
              "    <tr>\n",
              "      <th>29</th>\n",
              "      <td>Casalinga</td>\n",
              "      <td>-0.033763</td>\n",
              "    </tr>\n",
              "    <tr>\n",
              "      <th>38</th>\n",
              "      <td>Pensionato/a</td>\n",
              "      <td>-0.036326</td>\n",
              "    </tr>\n",
              "    <tr>\n",
              "      <th>2</th>\n",
              "      <td>W_PHONE</td>\n",
              "      <td>-0.036598</td>\n",
              "    </tr>\n",
              "    <tr>\n",
              "      <th>35</th>\n",
              "      <td>Libero professionista</td>\n",
              "      <td>-0.042530</td>\n",
              "    </tr>\n",
              "    <tr>\n",
              "      <th>28</th>\n",
              "      <td>Artigiano</td>\n",
              "      <td>-0.080773</td>\n",
              "    </tr>\n",
              "    <tr>\n",
              "      <th>1</th>\n",
              "      <td>FIRST_ID_NEG</td>\n",
              "      <td>-0.118974</td>\n",
              "    </tr>\n",
              "    <tr>\n",
              "      <th>6</th>\n",
              "      <td>STANDARD BIZ</td>\n",
              "      <td>-0.142843</td>\n",
              "    </tr>\n",
              "    <tr>\n",
              "      <th>4</th>\n",
              "      <td>PREMIUM BIZ</td>\n",
              "      <td>-0.177025</td>\n",
              "    </tr>\n",
              "    <tr>\n",
              "      <th>3</th>\n",
              "      <td>TYP_CLI_ACCOUNT</td>\n",
              "      <td>-0.251169</td>\n",
              "    </tr>\n",
              "    <tr>\n",
              "      <th>0</th>\n",
              "      <td>ID_FID</td>\n",
              "      <td>-0.588655</td>\n",
              "    </tr>\n",
              "  </tbody>\n",
              "</table>\n",
              "</div>\n",
              "      <button class=\"colab-df-convert\" onclick=\"convertToInteractive('df-85f990b0-d733-4dbb-9e9d-c9c646480dbe')\"\n",
              "              title=\"Convert this dataframe to an interactive table.\"\n",
              "              style=\"display:none;\">\n",
              "        \n",
              "  <svg xmlns=\"http://www.w3.org/2000/svg\" height=\"24px\"viewBox=\"0 0 24 24\"\n",
              "       width=\"24px\">\n",
              "    <path d=\"M0 0h24v24H0V0z\" fill=\"none\"/>\n",
              "    <path d=\"M18.56 5.44l.94 2.06.94-2.06 2.06-.94-2.06-.94-.94-2.06-.94 2.06-2.06.94zm-11 1L8.5 8.5l.94-2.06 2.06-.94-2.06-.94L8.5 2.5l-.94 2.06-2.06.94zm10 10l.94 2.06.94-2.06 2.06-.94-2.06-.94-.94-2.06-.94 2.06-2.06.94z\"/><path d=\"M17.41 7.96l-1.37-1.37c-.4-.4-.92-.59-1.43-.59-.52 0-1.04.2-1.43.59L10.3 9.45l-7.72 7.72c-.78.78-.78 2.05 0 2.83L4 21.41c.39.39.9.59 1.41.59.51 0 1.02-.2 1.41-.59l7.78-7.78 2.81-2.81c.8-.78.8-2.07 0-2.86zM5.41 20L4 18.59l7.72-7.72 1.47 1.35L5.41 20z\"/>\n",
              "  </svg>\n",
              "      </button>\n",
              "      \n",
              "  <style>\n",
              "    .colab-df-container {\n",
              "      display:flex;\n",
              "      flex-wrap:wrap;\n",
              "      gap: 12px;\n",
              "    }\n",
              "\n",
              "    .colab-df-convert {\n",
              "      background-color: #E8F0FE;\n",
              "      border: none;\n",
              "      border-radius: 50%;\n",
              "      cursor: pointer;\n",
              "      display: none;\n",
              "      fill: #1967D2;\n",
              "      height: 32px;\n",
              "      padding: 0 0 0 0;\n",
              "      width: 32px;\n",
              "    }\n",
              "\n",
              "    .colab-df-convert:hover {\n",
              "      background-color: #E2EBFA;\n",
              "      box-shadow: 0px 1px 2px rgba(60, 64, 67, 0.3), 0px 1px 3px 1px rgba(60, 64, 67, 0.15);\n",
              "      fill: #174EA6;\n",
              "    }\n",
              "\n",
              "    [theme=dark] .colab-df-convert {\n",
              "      background-color: #3B4455;\n",
              "      fill: #D2E3FC;\n",
              "    }\n",
              "\n",
              "    [theme=dark] .colab-df-convert:hover {\n",
              "      background-color: #434B5C;\n",
              "      box-shadow: 0px 1px 3px 1px rgba(0, 0, 0, 0.15);\n",
              "      filter: drop-shadow(0px 1px 2px rgba(0, 0, 0, 0.3));\n",
              "      fill: #FFFFFF;\n",
              "    }\n",
              "  </style>\n",
              "\n",
              "      <script>\n",
              "        const buttonEl =\n",
              "          document.querySelector('#df-85f990b0-d733-4dbb-9e9d-c9c646480dbe button.colab-df-convert');\n",
              "        buttonEl.style.display =\n",
              "          google.colab.kernel.accessAllowed ? 'block' : 'none';\n",
              "\n",
              "        async function convertToInteractive(key) {\n",
              "          const element = document.querySelector('#df-85f990b0-d733-4dbb-9e9d-c9c646480dbe');\n",
              "          const dataTable =\n",
              "            await google.colab.kernel.invokeFunction('convertToInteractive',\n",
              "                                                     [key], {});\n",
              "          if (!dataTable) return;\n",
              "\n",
              "          const docLinkHtml = 'Like what you see? Visit the ' +\n",
              "            '<a target=\"_blank\" href=https://colab.research.google.com/notebooks/data_table.ipynb>data table notebook</a>'\n",
              "            + ' to learn more about interactive tables.';\n",
              "          element.innerHTML = '';\n",
              "          dataTable['output_type'] = 'display_data';\n",
              "          await google.colab.output.renderOutput(dataTable, element);\n",
              "          const docLink = document.createElement('div');\n",
              "          docLink.innerHTML = docLinkHtml;\n",
              "          element.appendChild(docLink);\n",
              "        }\n",
              "      </script>\n",
              "    </div>\n",
              "  </div>\n",
              "  "
            ]
          },
          "metadata": {},
          "execution_count": 44
        }
      ],
      "source": [
        "# Analyzing Coefficients\n",
        "feature_importances = pd.concat([pd.DataFrame(dataset.drop(columns = 'ID_CLI').columns, columns = [\"features\"]), \n",
        "                                 pd.DataFrame(np.transpose(classifier.coef_), columns = [\"coef\"])],axis = 1)\n",
        "feature_importances.sort_values(\"coef\", ascending = False)"
      ]
    },
    {
      "cell_type": "markdown",
      "metadata": {
        "id": "EcrRugzETvtX"
      },
      "source": [
        "## Miglioramento del modello\n",
        "Il miglioramento del modello implica fondamentalmente la scelta dei migliori parametri per il modello di apprendimento automatico che abbiamo elaborato. Esistono due tipi di parametri in qualsiasi modello di apprendimento automatico: il primo tipo è il tipo di parametri che il modello apprende; i valori ottimali trovati automaticamente eseguendo il modello. Il secondo tipo di parametri sono quelli che l'utente può scegliere durante l'esecuzione del modello. Tali parametri sono chiamati iperparametri; un insieme di valori configurabili esterni a un modello che non può essere determinato dai dati e che stiamo cercando di ottimizzare attraverso tecniche di Parameter Tuning come Random Search o Grid Search.\n",
        "\n",
        "L'ottimizzazione degli iperparametri potrebbe non migliorare il modello ogni volta. Ad esempio, cercando di ottimizzare ulteriormente il modello si è ottenuto un punteggio di precisione inferiore a quello predefinito. Tutto ciò serve per dimostrare i passaggi coinvolti nell'ottimizzazione degli iperparametri."
      ]
    },
    {
      "cell_type": "markdown",
      "source": [
        "Regolazione dei parametri ipertestuali tramite la Grid Search."
      ],
      "metadata": {
        "id": "OF9wlf7MI-Sp"
      }
    },
    {
      "cell_type": "code",
      "execution_count": null,
      "metadata": {
        "colab": {
          "base_uri": "https://localhost:8080/"
        },
        "id": "ivtEvx32T4wu",
        "outputId": "d9b09c60-aa3f-4faa-996f-af4dfca4929c"
      },
      "outputs": [
        {
          "output_type": "stream",
          "name": "stdout",
          "text": [
            "Took 7.87 seconds\n"
          ]
        },
        {
          "output_type": "execute_result",
          "data": {
            "text/plain": [
              "(0.656464988087951, {'C': 0.01, 'penalty': 'l2'})"
            ]
          },
          "metadata": {},
          "execution_count": 45
        }
      ],
      "source": [
        "# Round 2:\n",
        "# Select Regularization Method\n",
        "import time\n",
        "penalty = ['l2']\n",
        "# Create regularization hyperparameter space\n",
        "C = [ 0.0001, 0.001, 0.01, 0.02, 0.05]\n",
        "# Combine Parameters\n",
        "parameters = dict(C=C, penalty=penalty)\n",
        "lr_classifier = GridSearchCV(estimator = classifier,\n",
        "                           param_grid = parameters,\n",
        "                           scoring = \"balanced_accuracy\",\n",
        "                           cv = 10,\n",
        "                           n_jobs = -1)\n",
        "t0 = time.time()\n",
        "lr_classifier  = lr_classifier .fit(X_train, y_train)\n",
        "t1 = time.time()\n",
        "print(\"Took %0.2f seconds\" % (t1 - t0))\n",
        "lr_best_accuracy = lr_classifier.best_score_\n",
        "lr_best_parameters = lr_classifier.best_params_\n",
        "lr_best_accuracy, lr_best_parameters"
      ]
    },
    {
      "cell_type": "code",
      "execution_count": null,
      "metadata": {
        "id": "t6uz6K-ZT8rw"
      },
      "outputs": [],
      "source": [
        "lr_classifier = LogisticRegression(random_state = 0, penalty = 'l2')\n",
        "lr_classifier.fit(X_train, y_train)\n",
        "# Predict the Test set results\n",
        "y_pred = lr_classifier.predict(X_test)\n",
        "#probability score\n",
        "y_pred_probs = lr_classifier.predict_proba(X_test)\n",
        "y_pred_probs  = y_pred_probs [:, 1]"
      ]
    },
    {
      "cell_type": "markdown",
      "metadata": {
        "id": "A3l1vTuPT_c0"
      },
      "source": [
        "## Future Predictions\n",
        "Comparazione delle predizioni con il test set a selezionato precedentemente."
      ]
    },
    {
      "cell_type": "code",
      "execution_count": null,
      "metadata": {
        "colab": {
          "base_uri": "https://localhost:8080/",
          "height": 433
        },
        "id": "7VgDDZh-UCOB",
        "outputId": "fdf2d9fe-7ca4-4db8-9220-4787bfe169c2"
      },
      "outputs": [
        {
          "output_type": "stream",
          "name": "stdout",
          "text": [
            "[[34037 41175]\n",
            " [16366 98870]]\n",
            "Test Data Accuracy: 0.6979\n"
          ]
        },
        {
          "output_type": "display_data",
          "data": {
            "text/plain": [
              "<Figure size 2016x1440 with 0 Axes>"
            ]
          },
          "metadata": {}
        },
        {
          "output_type": "display_data",
          "data": {
            "text/plain": [
              "<Figure size 432x288 with 2 Axes>"
            ],
            "image/png": "[encoded data removed]"
          },
          "metadata": {}
        }
      ],
      "source": [
        "#Revalidate final results with Confusion Matrix:\n",
        "cm = confusion_matrix(y_test, y_pred) \n",
        "print (cm)\n",
        "#Confusion Matrix as a quick Crosstab:\n",
        "    \n",
        "pd.crosstab(y_test,pd.Series(y_pred),\n",
        "rownames=['ACTUAL'],colnames=['PRED'])\n",
        "#visualize Confusion Matrix:\n",
        "cm = confusion_matrix(y_test, y_pred) \n",
        "df_cm = pd.DataFrame(cm, index = (0, 1), columns = (0, 1))\n",
        "plt.figure(figsize = (28,20))\n",
        "fig, ax = plt.subplots()\n",
        "sn.set(font_scale=1.4)\n",
        "sn.heatmap(df_cm, annot=True, fmt='g'#,cmap=\"YlGnBu\" \n",
        "           )\n",
        "class_names=[0,1]\n",
        "tick_marks = np.arange(len(class_names))\n",
        "plt.tight_layout()\n",
        "plt.title('Confusion matrix\\n', y=1.1)\n",
        "plt.xticks(tick_marks, class_names)\n",
        "plt.yticks(tick_marks, class_names)\n",
        "ax.xaxis.set_label_position(\"top\")\n",
        "plt.ylabel('Actual label\\n')\n",
        "plt.xlabel('Predicted label\\n')\n",
        "print(\"Test Data Accuracy: %0.4f\" % accuracy_score(y_test, y_pred))"
      ]
    },
    {
      "cell_type": "markdown",
      "metadata": {
        "id": "DnPe2oKRUI-c"
      },
      "source": [
        "**Formattazione dei risultati finali.**\n",
        "È sempre una buona pratica costruire un punteggio di propensione oltre a un risultato assoluto previsto. Invece di recuperare solo un risultato target stimato binario (0 o 1), ogni \"ID cliente\" potrebbe ottenere un punteggio di propensione che evidenzia la percentuale di probabilità di intraprendere l'azione target (\"churn\")."
      ]
    },
    {
      "cell_type": "code",
      "execution_count": null,
      "metadata": {
        "colab": {
          "base_uri": "https://localhost:8080/"
        },
        "id": "PZfhtomBUFWp",
        "outputId": "a591bae2-395c-4d35-ed0b-b9dcb32e68c5"
      },
      "outputs": [
        {
          "output_type": "stream",
          "name": "stdout",
          "text": [
            "         ID_CLI  CHURN  predictions  propensity_to_churn(%) Ranking\n",
            "2433053  392265      1            1                   74.81       2\n",
            "3204295  259014      1            1                   77.96       2\n",
            "275698   799859      0            0                   48.53       8\n",
            "3614925  171280      1            1                   79.40       1\n",
            "76368    875742      0            0                   37.84      10\n",
            "...         ...    ...          ...                     ...     ...\n",
            "2712563   27584      1            1                   69.17       4\n",
            "2261552  417597      0            1                   65.16       5\n",
            "1311502  571215      0            1                   60.39       6\n",
            "2215944  424895      0            1                   72.97       3\n",
            "1145233   40945      0            1                   53.35       7\n",
            "\n",
            "[190448 rows x 5 columns]\n"
          ]
        }
      ],
      "source": [
        "final_results = pd.concat([test_identity, y_test], axis = 1).dropna()\n",
        "final_results['predictions'] = y_pred\n",
        "final_results[\"propensity_to_churn(%)\"] = y_pred_probs\n",
        "final_results[\"propensity_to_churn(%)\"] = final_results[\"propensity_to_churn(%)\"]*100\n",
        "final_results[\"propensity_to_churn(%)\"]=final_results[\"propensity_to_churn(%)\"].round(2)\n",
        "final_results = final_results[['ID_CLI', 'CHURN', 'predictions', 'propensity_to_churn(%)']]\n",
        "final_results ['Ranking'] = pd.qcut(final_results['propensity_to_churn(%)'].rank(method = 'first'),10,labels=range(10,0,-1))\n",
        "print (final_results)"
      ]
    },
    {
      "cell_type": "markdown",
      "metadata": {
        "id": "YECdbrJHUP62"
      },
      "source": [
        "## Conclusione\n",
        "\n",
        "Pertanto in questo progetto abbiamo utilizzato il merge di 5 set di dati per raccogliere maggiori informazioni sui clienti al fine di creare un classificatore di apprendimento automatico che prevede la propensione di qualsiasi cliente ad abbandonare nei mesi a venire con un punteggio di accuratezza compreso tra il 68% e il 72%."
      ]
    }
  ],
  "metadata": {
    "colab": {
      "collapsed_sections": [
        "Fdy7_tWXQkRK",
        "CJHzC5Qa5Ftf"
      ],
      "provenance": [],
      "toc_visible": true
    },
    "gpuClass": "standard",
    "kernelspec": {
      "display_name": "Python 3",
      "name": "python3"
    },
    "language_info": {
      "name": "python"
    }
  },
  "nbformat": 4,
  "nbformat_minor": 0
}